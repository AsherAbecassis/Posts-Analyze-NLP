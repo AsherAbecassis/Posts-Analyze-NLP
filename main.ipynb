{
 "cells": [
  {
   "cell_type": "code",
   "execution_count": 1,
   "id": "0afd4a19",
   "metadata": {},
   "outputs": [],
   "source": [
    "import numpy as np\n",
    "import pandas as pd \n",
    "import matplotlib.pyplot as plt\n",
    "import seaborn as sns\n",
    "from nltk.tokenize import RegexpTokenizer\n",
    "from nltk.corpus import stopwords\n",
    "import warnings\n",
    "import nltk\n",
    "from collections import Counter\n",
    "from pprint import pprint\n",
    "import random\n",
    "import emoji\n",
    "import regex\n",
    "import re\n",
    "\n",
    "sns.set_theme(style=\"ticks\", color_codes=True)\n"
   ]
  },
  {
   "cell_type": "code",
   "execution_count": 2,
   "id": "d1f573c5",
   "metadata": {},
   "outputs": [],
   "source": [
    "def getDataFrame(file_name):\n",
    "    df=pd.read_csv(file_name)\n",
    "    return df"
   ]
  },
  {
   "cell_type": "code",
   "execution_count": 3,
   "id": "db7e957c",
   "metadata": {},
   "outputs": [],
   "source": [
    "df1=getDataFrame('reddit_wsb.csv')\n"
   ]
  },
  {
   "cell_type": "code",
   "execution_count": 4,
   "id": "3c07bac8",
   "metadata": {},
   "outputs": [
    {
     "data": {
      "text/html": [
       "<div>\n",
       "<style scoped>\n",
       "    .dataframe tbody tr th:only-of-type {\n",
       "        vertical-align: middle;\n",
       "    }\n",
       "\n",
       "    .dataframe tbody tr th {\n",
       "        vertical-align: top;\n",
       "    }\n",
       "\n",
       "    .dataframe thead th {\n",
       "        text-align: right;\n",
       "    }\n",
       "</style>\n",
       "<table border=\"1\" class=\"dataframe\">\n",
       "  <thead>\n",
       "    <tr style=\"text-align: right;\">\n",
       "      <th></th>\n",
       "      <th>score</th>\n",
       "      <th>comms_num</th>\n",
       "      <th>title</th>\n",
       "      <th>body</th>\n",
       "    </tr>\n",
       "  </thead>\n",
       "  <tbody>\n",
       "    <tr>\n",
       "      <th>0</th>\n",
       "      <td>55</td>\n",
       "      <td>6</td>\n",
       "      <td>It's not about the money, it's about sending a...</td>\n",
       "      <td>NaN</td>\n",
       "    </tr>\n",
       "    <tr>\n",
       "      <th>1</th>\n",
       "      <td>110</td>\n",
       "      <td>23</td>\n",
       "      <td>Math Professor Scott Steiner says the numbers ...</td>\n",
       "      <td>NaN</td>\n",
       "    </tr>\n",
       "    <tr>\n",
       "      <th>2</th>\n",
       "      <td>0</td>\n",
       "      <td>47</td>\n",
       "      <td>Exit the system</td>\n",
       "      <td>The CEO of NASDAQ pushed to halt trading “to g...</td>\n",
       "    </tr>\n",
       "    <tr>\n",
       "      <th>3</th>\n",
       "      <td>29</td>\n",
       "      <td>74</td>\n",
       "      <td>NEW SEC FILING FOR GME! CAN SOMEONE LESS RETAR...</td>\n",
       "      <td>NaN</td>\n",
       "    </tr>\n",
       "    <tr>\n",
       "      <th>4</th>\n",
       "      <td>71</td>\n",
       "      <td>156</td>\n",
       "      <td>Not to distract from GME, just thought our AMC...</td>\n",
       "      <td>NaN</td>\n",
       "    </tr>\n",
       "    <tr>\n",
       "      <th>...</th>\n",
       "      <td>...</td>\n",
       "      <td>...</td>\n",
       "      <td>...</td>\n",
       "      <td>...</td>\n",
       "    </tr>\n",
       "    <tr>\n",
       "      <th>47135</th>\n",
       "      <td>175</td>\n",
       "      <td>144</td>\n",
       "      <td>There is no crash coming for growth stocks - b...</td>\n",
       "      <td>First off, yes I’m holding some heavy bags\\n\\n...</td>\n",
       "    </tr>\n",
       "    <tr>\n",
       "      <th>47136</th>\n",
       "      <td>27</td>\n",
       "      <td>144</td>\n",
       "      <td>I give to you Roblox. Basically at it’s open p...</td>\n",
       "      <td>NaN</td>\n",
       "    </tr>\n",
       "    <tr>\n",
       "      <th>47137</th>\n",
       "      <td>69</td>\n",
       "      <td>44</td>\n",
       "      <td>$Baba about to put me in the streets 😓</td>\n",
       "      <td>NaN</td>\n",
       "    </tr>\n",
       "    <tr>\n",
       "      <th>47138</th>\n",
       "      <td>31</td>\n",
       "      <td>24</td>\n",
       "      <td>Is this enough ?</td>\n",
       "      <td>NaN</td>\n",
       "    </tr>\n",
       "    <tr>\n",
       "      <th>47139</th>\n",
       "      <td>614</td>\n",
       "      <td>51</td>\n",
       "      <td>Yolo my friend $GME HOLD HOLD HOLD</td>\n",
       "      <td>NaN</td>\n",
       "    </tr>\n",
       "  </tbody>\n",
       "</table>\n",
       "<p>47140 rows × 4 columns</p>\n",
       "</div>"
      ],
      "text/plain": [
       "       score  comms_num                                              title  \\\n",
       "0         55          6  It's not about the money, it's about sending a...   \n",
       "1        110         23  Math Professor Scott Steiner says the numbers ...   \n",
       "2          0         47                                    Exit the system   \n",
       "3         29         74  NEW SEC FILING FOR GME! CAN SOMEONE LESS RETAR...   \n",
       "4         71        156  Not to distract from GME, just thought our AMC...   \n",
       "...      ...        ...                                                ...   \n",
       "47135    175        144  There is no crash coming for growth stocks - b...   \n",
       "47136     27        144  I give to you Roblox. Basically at it’s open p...   \n",
       "47137     69         44             $Baba about to put me in the streets 😓   \n",
       "47138     31         24                                   Is this enough ?   \n",
       "47139    614         51                 Yolo my friend $GME HOLD HOLD HOLD   \n",
       "\n",
       "                                                    body  \n",
       "0                                                    NaN  \n",
       "1                                                    NaN  \n",
       "2      The CEO of NASDAQ pushed to halt trading “to g...  \n",
       "3                                                    NaN  \n",
       "4                                                    NaN  \n",
       "...                                                  ...  \n",
       "47135  First off, yes I’m holding some heavy bags\\n\\n...  \n",
       "47136                                                NaN  \n",
       "47137                                                NaN  \n",
       "47138                                                NaN  \n",
       "47139                                                NaN  \n",
       "\n",
       "[47140 rows x 4 columns]"
      ]
     },
     "execution_count": 4,
     "metadata": {},
     "output_type": "execute_result"
    }
   ],
   "source": [
    "\n",
    "df=pd.DataFrame()\n",
    "df = df1[['score','comms_num','title','body']].copy()\n",
    "df"
   ]
  },
  {
   "cell_type": "code",
   "execution_count": 5,
   "id": "2d464ece",
   "metadata": {},
   "outputs": [
    {
     "name": "stdout",
     "output_type": "stream",
     "text": [
      "(47140, 4)\n"
     ]
    }
   ],
   "source": [
    "print(df.shape)"
   ]
  },
  {
   "cell_type": "code",
   "execution_count": 6,
   "id": "fc10c396",
   "metadata": {},
   "outputs": [
    {
     "data": {
      "text/html": [
       "<div>\n",
       "<style scoped>\n",
       "    .dataframe tbody tr th:only-of-type {\n",
       "        vertical-align: middle;\n",
       "    }\n",
       "\n",
       "    .dataframe tbody tr th {\n",
       "        vertical-align: top;\n",
       "    }\n",
       "\n",
       "    .dataframe thead th {\n",
       "        text-align: right;\n",
       "    }\n",
       "</style>\n",
       "<table border=\"1\" class=\"dataframe\">\n",
       "  <thead>\n",
       "    <tr style=\"text-align: right;\">\n",
       "      <th></th>\n",
       "      <th>score</th>\n",
       "      <th>comms_num</th>\n",
       "    </tr>\n",
       "  </thead>\n",
       "  <tbody>\n",
       "    <tr>\n",
       "      <th>count</th>\n",
       "      <td>47140.000000</td>\n",
       "      <td>47140.000000</td>\n",
       "    </tr>\n",
       "    <tr>\n",
       "      <th>mean</th>\n",
       "      <td>1454.319113</td>\n",
       "      <td>245.877726</td>\n",
       "    </tr>\n",
       "    <tr>\n",
       "      <th>std</th>\n",
       "      <td>8383.142215</td>\n",
       "      <td>2570.380633</td>\n",
       "    </tr>\n",
       "    <tr>\n",
       "      <th>min</th>\n",
       "      <td>0.000000</td>\n",
       "      <td>0.000000</td>\n",
       "    </tr>\n",
       "    <tr>\n",
       "      <th>25%</th>\n",
       "      <td>1.000000</td>\n",
       "      <td>2.000000</td>\n",
       "    </tr>\n",
       "    <tr>\n",
       "      <th>50%</th>\n",
       "      <td>32.000000</td>\n",
       "      <td>14.000000</td>\n",
       "    </tr>\n",
       "    <tr>\n",
       "      <th>75%</th>\n",
       "      <td>195.000000</td>\n",
       "      <td>53.000000</td>\n",
       "    </tr>\n",
       "    <tr>\n",
       "      <th>max</th>\n",
       "      <td>348241.000000</td>\n",
       "      <td>93268.000000</td>\n",
       "    </tr>\n",
       "  </tbody>\n",
       "</table>\n",
       "</div>"
      ],
      "text/plain": [
       "               score     comms_num\n",
       "count   47140.000000  47140.000000\n",
       "mean     1454.319113    245.877726\n",
       "std      8383.142215   2570.380633\n",
       "min         0.000000      0.000000\n",
       "25%         1.000000      2.000000\n",
       "50%        32.000000     14.000000\n",
       "75%       195.000000     53.000000\n",
       "max    348241.000000  93268.000000"
      ]
     },
     "execution_count": 6,
     "metadata": {},
     "output_type": "execute_result"
    }
   ],
   "source": [
    "df.describe()"
   ]
  },
  {
   "cell_type": "code",
   "execution_count": 7,
   "id": "589d58d4",
   "metadata": {},
   "outputs": [
    {
     "name": "stdout",
     "output_type": "stream",
     "text": [
      "<class 'pandas.core.frame.DataFrame'>\n",
      "RangeIndex: 47140 entries, 0 to 47139\n",
      "Data columns (total 4 columns):\n",
      " #   Column     Non-Null Count  Dtype \n",
      "---  ------     --------------  ----- \n",
      " 0   score      47140 non-null  int64 \n",
      " 1   comms_num  47140 non-null  int64 \n",
      " 2   title      47140 non-null  object\n",
      " 3   body       22090 non-null  object\n",
      "dtypes: int64(2), object(2)\n",
      "memory usage: 1.4+ MB\n"
     ]
    }
   ],
   "source": [
    "df.info()"
   ]
  },
  {
   "cell_type": "code",
   "execution_count": 8,
   "id": "849fd16a",
   "metadata": {},
   "outputs": [
    {
     "name": "stdout",
     "output_type": "stream",
     "text": [
      "score\n",
      "0\n",
      "comms_num\n",
      "0\n",
      "title\n",
      "0\n",
      "body\n",
      "25050\n"
     ]
    }
   ],
   "source": [
    "for column in df:\n",
    "    print(column)\n",
    "    print(df[column].isnull().sum().sum())\n"
   ]
  },
  {
   "cell_type": "code",
   "execution_count": 9,
   "id": "ea249e5a",
   "metadata": {},
   "outputs": [],
   "source": [
    "df=df.dropna()"
   ]
  },
  {
   "cell_type": "code",
   "execution_count": 10,
   "id": "888cb2bd",
   "metadata": {},
   "outputs": [
    {
     "data": {
      "text/html": [
       "<div>\n",
       "<style scoped>\n",
       "    .dataframe tbody tr th:only-of-type {\n",
       "        vertical-align: middle;\n",
       "    }\n",
       "\n",
       "    .dataframe tbody tr th {\n",
       "        vertical-align: top;\n",
       "    }\n",
       "\n",
       "    .dataframe thead th {\n",
       "        text-align: right;\n",
       "    }\n",
       "</style>\n",
       "<table border=\"1\" class=\"dataframe\">\n",
       "  <thead>\n",
       "    <tr style=\"text-align: right;\">\n",
       "      <th></th>\n",
       "      <th>score</th>\n",
       "      <th>comms_num</th>\n",
       "      <th>title</th>\n",
       "      <th>body</th>\n",
       "    </tr>\n",
       "  </thead>\n",
       "  <tbody>\n",
       "    <tr>\n",
       "      <th>2</th>\n",
       "      <td>0</td>\n",
       "      <td>47</td>\n",
       "      <td>Exit the system</td>\n",
       "      <td>The CEO of NASDAQ pushed to halt trading “to g...</td>\n",
       "    </tr>\n",
       "    <tr>\n",
       "      <th>6</th>\n",
       "      <td>317</td>\n",
       "      <td>53</td>\n",
       "      <td>SHORT STOCK DOESN'T HAVE AN EXPIRATION DATE</td>\n",
       "      <td>Hedgefund whales are spreading disinfo saying ...</td>\n",
       "    </tr>\n",
       "    <tr>\n",
       "      <th>7</th>\n",
       "      <td>405</td>\n",
       "      <td>178</td>\n",
       "      <td>THIS IS THE MOMENT</td>\n",
       "      <td>Life isn't fair. My mother always told me that...</td>\n",
       "    </tr>\n",
       "    <tr>\n",
       "      <th>10</th>\n",
       "      <td>222</td>\n",
       "      <td>70</td>\n",
       "      <td>We need to keep this movement going, we all ca...</td>\n",
       "      <td>I believe right now is one of those rare oppo...</td>\n",
       "    </tr>\n",
       "    <tr>\n",
       "      <th>12</th>\n",
       "      <td>0</td>\n",
       "      <td>16</td>\n",
       "      <td>Once you're done with GME - $AG and $SLV, the ...</td>\n",
       "      <td>You guys are champs. GME... who would have tho...</td>\n",
       "    </tr>\n",
       "    <tr>\n",
       "      <th>...</th>\n",
       "      <td>...</td>\n",
       "      <td>...</td>\n",
       "      <td>...</td>\n",
       "      <td>...</td>\n",
       "    </tr>\n",
       "    <tr>\n",
       "      <th>47129</th>\n",
       "      <td>23</td>\n",
       "      <td>23</td>\n",
       "      <td>FLGT Fulgent Genetics Earnings Record!</td>\n",
       "      <td>I am long on FLGT! I think way too many people...</td>\n",
       "    </tr>\n",
       "    <tr>\n",
       "      <th>47130</th>\n",
       "      <td>42</td>\n",
       "      <td>31</td>\n",
       "      <td>Anyone here in $PINS?</td>\n",
       "      <td>Before you laugh at me just indulge me for a f...</td>\n",
       "    </tr>\n",
       "    <tr>\n",
       "      <th>47131</th>\n",
       "      <td>25</td>\n",
       "      <td>9</td>\n",
       "      <td>Changes to Calls/Puts Open Interest Holdings W...</td>\n",
       "      <td>How many total open interest calls were added...</td>\n",
       "    </tr>\n",
       "    <tr>\n",
       "      <th>47133</th>\n",
       "      <td>45</td>\n",
       "      <td>59</td>\n",
       "      <td>Uranium DD</td>\n",
       "      <td>TL:DR - Supply and demand fundamentals require...</td>\n",
       "    </tr>\n",
       "    <tr>\n",
       "      <th>47135</th>\n",
       "      <td>175</td>\n",
       "      <td>144</td>\n",
       "      <td>There is no crash coming for growth stocks - b...</td>\n",
       "      <td>First off, yes I’m holding some heavy bags\\n\\n...</td>\n",
       "    </tr>\n",
       "  </tbody>\n",
       "</table>\n",
       "<p>22090 rows × 4 columns</p>\n",
       "</div>"
      ],
      "text/plain": [
       "       score  comms_num                                              title  \\\n",
       "2          0         47                                    Exit the system   \n",
       "6        317         53        SHORT STOCK DOESN'T HAVE AN EXPIRATION DATE   \n",
       "7        405        178                                 THIS IS THE MOMENT   \n",
       "10       222         70  We need to keep this movement going, we all ca...   \n",
       "12         0         16  Once you're done with GME - $AG and $SLV, the ...   \n",
       "...      ...        ...                                                ...   \n",
       "47129     23         23             FLGT Fulgent Genetics Earnings Record!   \n",
       "47130     42         31                              Anyone here in $PINS?   \n",
       "47131     25          9  Changes to Calls/Puts Open Interest Holdings W...   \n",
       "47133     45         59                                         Uranium DD   \n",
       "47135    175        144  There is no crash coming for growth stocks - b...   \n",
       "\n",
       "                                                    body  \n",
       "2      The CEO of NASDAQ pushed to halt trading “to g...  \n",
       "6      Hedgefund whales are spreading disinfo saying ...  \n",
       "7      Life isn't fair. My mother always told me that...  \n",
       "10      I believe right now is one of those rare oppo...  \n",
       "12     You guys are champs. GME... who would have tho...  \n",
       "...                                                  ...  \n",
       "47129  I am long on FLGT! I think way too many people...  \n",
       "47130  Before you laugh at me just indulge me for a f...  \n",
       "47131   How many total open interest calls were added...  \n",
       "47133  TL:DR - Supply and demand fundamentals require...  \n",
       "47135  First off, yes I’m holding some heavy bags\\n\\n...  \n",
       "\n",
       "[22090 rows x 4 columns]"
      ]
     },
     "execution_count": 10,
     "metadata": {},
     "output_type": "execute_result"
    }
   ],
   "source": [
    "df"
   ]
  },
  {
   "cell_type": "code",
   "execution_count": 11,
   "id": "96d286ee",
   "metadata": {},
   "outputs": [
    {
     "name": "stdout",
     "output_type": "stream",
     "text": [
      "score\n",
      "0\n",
      "comms_num\n",
      "0\n",
      "title\n",
      "0\n",
      "body\n",
      "0\n"
     ]
    }
   ],
   "source": [
    "for column in df:\n",
    "    print(column)\n",
    "    print(df[column].isnull().sum().sum())\n"
   ]
  },
  {
   "cell_type": "code",
   "execution_count": 12,
   "id": "aee1b4e7",
   "metadata": {},
   "outputs": [
    {
     "name": "stderr",
     "output_type": "stream",
     "text": [
      "/Users/asher/opt/anaconda3/envs/tensorflow12/lib/python3.6/site-packages/pandas/core/indexing.py:1765: SettingWithCopyWarning: \n",
      "A value is trying to be set on a copy of a slice from a DataFrame.\n",
      "Try using .loc[row_indexer,col_indexer] = value instead\n",
      "\n",
      "See the caveats in the documentation: https://pandas.pydata.org/pandas-docs/stable/user_guide/indexing.html#returning-a-view-versus-a-copy\n",
      "  isetter(loc, value)\n",
      "/Users/asher/opt/anaconda3/envs/tensorflow12/lib/python3.6/site-packages/pandas/core/indexing.py:1765: SettingWithCopyWarning: \n",
      "A value is trying to be set on a copy of a slice from a DataFrame.\n",
      "Try using .loc[row_indexer,col_indexer] = value instead\n",
      "\n",
      "See the caveats in the documentation: https://pandas.pydata.org/pandas-docs/stable/user_guide/indexing.html#returning-a-view-versus-a-copy\n",
      "  isetter(loc, value)\n"
     ]
    }
   ],
   "source": [
    "df.loc[(df.score <=50 ),'score']= 0\n",
    "df.loc[(df.score >50 ),'score']= 1"
   ]
  },
  {
   "cell_type": "code",
   "execution_count": 13,
   "id": "a7e4964e",
   "metadata": {},
   "outputs": [
    {
     "data": {
      "text/html": [
       "<div>\n",
       "<style scoped>\n",
       "    .dataframe tbody tr th:only-of-type {\n",
       "        vertical-align: middle;\n",
       "    }\n",
       "\n",
       "    .dataframe tbody tr th {\n",
       "        vertical-align: top;\n",
       "    }\n",
       "\n",
       "    .dataframe thead th {\n",
       "        text-align: right;\n",
       "    }\n",
       "</style>\n",
       "<table border=\"1\" class=\"dataframe\">\n",
       "  <thead>\n",
       "    <tr style=\"text-align: right;\">\n",
       "      <th></th>\n",
       "      <th>score</th>\n",
       "      <th>comms_num</th>\n",
       "      <th>title</th>\n",
       "      <th>body</th>\n",
       "    </tr>\n",
       "  </thead>\n",
       "  <tbody>\n",
       "    <tr>\n",
       "      <th>2</th>\n",
       "      <td>0</td>\n",
       "      <td>47</td>\n",
       "      <td>Exit the system</td>\n",
       "      <td>The CEO of NASDAQ pushed to halt trading “to g...</td>\n",
       "    </tr>\n",
       "    <tr>\n",
       "      <th>6</th>\n",
       "      <td>1</td>\n",
       "      <td>53</td>\n",
       "      <td>SHORT STOCK DOESN'T HAVE AN EXPIRATION DATE</td>\n",
       "      <td>Hedgefund whales are spreading disinfo saying ...</td>\n",
       "    </tr>\n",
       "    <tr>\n",
       "      <th>7</th>\n",
       "      <td>1</td>\n",
       "      <td>178</td>\n",
       "      <td>THIS IS THE MOMENT</td>\n",
       "      <td>Life isn't fair. My mother always told me that...</td>\n",
       "    </tr>\n",
       "    <tr>\n",
       "      <th>10</th>\n",
       "      <td>1</td>\n",
       "      <td>70</td>\n",
       "      <td>We need to keep this movement going, we all ca...</td>\n",
       "      <td>I believe right now is one of those rare oppo...</td>\n",
       "    </tr>\n",
       "    <tr>\n",
       "      <th>12</th>\n",
       "      <td>0</td>\n",
       "      <td>16</td>\n",
       "      <td>Once you're done with GME - $AG and $SLV, the ...</td>\n",
       "      <td>You guys are champs. GME... who would have tho...</td>\n",
       "    </tr>\n",
       "    <tr>\n",
       "      <th>...</th>\n",
       "      <td>...</td>\n",
       "      <td>...</td>\n",
       "      <td>...</td>\n",
       "      <td>...</td>\n",
       "    </tr>\n",
       "    <tr>\n",
       "      <th>47129</th>\n",
       "      <td>0</td>\n",
       "      <td>23</td>\n",
       "      <td>FLGT Fulgent Genetics Earnings Record!</td>\n",
       "      <td>I am long on FLGT! I think way too many people...</td>\n",
       "    </tr>\n",
       "    <tr>\n",
       "      <th>47130</th>\n",
       "      <td>0</td>\n",
       "      <td>31</td>\n",
       "      <td>Anyone here in $PINS?</td>\n",
       "      <td>Before you laugh at me just indulge me for a f...</td>\n",
       "    </tr>\n",
       "    <tr>\n",
       "      <th>47131</th>\n",
       "      <td>0</td>\n",
       "      <td>9</td>\n",
       "      <td>Changes to Calls/Puts Open Interest Holdings W...</td>\n",
       "      <td>How many total open interest calls were added...</td>\n",
       "    </tr>\n",
       "    <tr>\n",
       "      <th>47133</th>\n",
       "      <td>0</td>\n",
       "      <td>59</td>\n",
       "      <td>Uranium DD</td>\n",
       "      <td>TL:DR - Supply and demand fundamentals require...</td>\n",
       "    </tr>\n",
       "    <tr>\n",
       "      <th>47135</th>\n",
       "      <td>1</td>\n",
       "      <td>144</td>\n",
       "      <td>There is no crash coming for growth stocks - b...</td>\n",
       "      <td>First off, yes I’m holding some heavy bags\\n\\n...</td>\n",
       "    </tr>\n",
       "  </tbody>\n",
       "</table>\n",
       "<p>22090 rows × 4 columns</p>\n",
       "</div>"
      ],
      "text/plain": [
       "       score  comms_num                                              title  \\\n",
       "2          0         47                                    Exit the system   \n",
       "6          1         53        SHORT STOCK DOESN'T HAVE AN EXPIRATION DATE   \n",
       "7          1        178                                 THIS IS THE MOMENT   \n",
       "10         1         70  We need to keep this movement going, we all ca...   \n",
       "12         0         16  Once you're done with GME - $AG and $SLV, the ...   \n",
       "...      ...        ...                                                ...   \n",
       "47129      0         23             FLGT Fulgent Genetics Earnings Record!   \n",
       "47130      0         31                              Anyone here in $PINS?   \n",
       "47131      0          9  Changes to Calls/Puts Open Interest Holdings W...   \n",
       "47133      0         59                                         Uranium DD   \n",
       "47135      1        144  There is no crash coming for growth stocks - b...   \n",
       "\n",
       "                                                    body  \n",
       "2      The CEO of NASDAQ pushed to halt trading “to g...  \n",
       "6      Hedgefund whales are spreading disinfo saying ...  \n",
       "7      Life isn't fair. My mother always told me that...  \n",
       "10      I believe right now is one of those rare oppo...  \n",
       "12     You guys are champs. GME... who would have tho...  \n",
       "...                                                  ...  \n",
       "47129  I am long on FLGT! I think way too many people...  \n",
       "47130  Before you laugh at me just indulge me for a f...  \n",
       "47131   How many total open interest calls were added...  \n",
       "47133  TL:DR - Supply and demand fundamentals require...  \n",
       "47135  First off, yes I’m holding some heavy bags\\n\\n...  \n",
       "\n",
       "[22090 rows x 4 columns]"
      ]
     },
     "execution_count": 13,
     "metadata": {},
     "output_type": "execute_result"
    }
   ],
   "source": [
    "df"
   ]
  },
  {
   "cell_type": "code",
   "execution_count": 14,
   "id": "528c33a8",
   "metadata": {},
   "outputs": [
    {
     "data": {
      "text/html": [
       "<div>\n",
       "<style scoped>\n",
       "    .dataframe tbody tr th:only-of-type {\n",
       "        vertical-align: middle;\n",
       "    }\n",
       "\n",
       "    .dataframe tbody tr th {\n",
       "        vertical-align: top;\n",
       "    }\n",
       "\n",
       "    .dataframe thead th {\n",
       "        text-align: right;\n",
       "    }\n",
       "</style>\n",
       "<table border=\"1\" class=\"dataframe\">\n",
       "  <thead>\n",
       "    <tr style=\"text-align: right;\">\n",
       "      <th></th>\n",
       "      <th>title</th>\n",
       "      <th>body</th>\n",
       "      <th>num_comms</th>\n",
       "    </tr>\n",
       "  </thead>\n",
       "  <tbody>\n",
       "    <tr>\n",
       "      <th>6</th>\n",
       "      <td>SHORT STOCK DOESN'T HAVE AN EXPIRATION DATE</td>\n",
       "      <td>Hedgefund whales are spreading disinfo saying ...</td>\n",
       "      <td>53</td>\n",
       "    </tr>\n",
       "    <tr>\n",
       "      <th>7</th>\n",
       "      <td>THIS IS THE MOMENT</td>\n",
       "      <td>Life isn't fair. My mother always told me that...</td>\n",
       "      <td>178</td>\n",
       "    </tr>\n",
       "    <tr>\n",
       "      <th>10</th>\n",
       "      <td>We need to keep this movement going, we all ca...</td>\n",
       "      <td>I believe right now is one of those rare oppo...</td>\n",
       "      <td>70</td>\n",
       "    </tr>\n",
       "    <tr>\n",
       "      <th>13</th>\n",
       "      <td>$GME price has nothing to do with fundamentals...</td>\n",
       "      <td>Firstly, all of you diamond hands and smooth-b...</td>\n",
       "      <td>61</td>\n",
       "    </tr>\n",
       "    <tr>\n",
       "      <th>19</th>\n",
       "      <td>Daily Discussion Thread for January 28, 2021</td>\n",
       "      <td>Your daily trading discussion thread. Please k...</td>\n",
       "      <td>5942</td>\n",
       "    </tr>\n",
       "    <tr>\n",
       "      <th>...</th>\n",
       "      <td>...</td>\n",
       "      <td>...</td>\n",
       "      <td>...</td>\n",
       "    </tr>\n",
       "    <tr>\n",
       "      <th>47112</th>\n",
       "      <td>Regeneron ($RGEN) is rumored to be buying out ...</td>\n",
       "      <td>$REGN ($456) jointly filed an important patent...</td>\n",
       "      <td>138</td>\n",
       "    </tr>\n",
       "    <tr>\n",
       "      <th>47116</th>\n",
       "      <td>For those who actually watched the entire Hous...</td>\n",
       "      <td>Full disclosure, I own many shares of both GME...</td>\n",
       "      <td>121</td>\n",
       "    </tr>\n",
       "    <tr>\n",
       "      <th>47118</th>\n",
       "      <td>ASO criminally undervalue and bound to have ma...</td>\n",
       "      <td>$ASO only going up since IPO\\n\\nCurrent market...</td>\n",
       "      <td>57</td>\n",
       "    </tr>\n",
       "    <tr>\n",
       "      <th>47124</th>\n",
       "      <td>Fed warns about potential for ‘significant dec...</td>\n",
       "      <td>The FED released their semi-annual Financial S...</td>\n",
       "      <td>89</td>\n",
       "    </tr>\n",
       "    <tr>\n",
       "      <th>47135</th>\n",
       "      <td>There is no crash coming for growth stocks - b...</td>\n",
       "      <td>First off, yes I’m holding some heavy bags\\n\\n...</td>\n",
       "      <td>144</td>\n",
       "    </tr>\n",
       "  </tbody>\n",
       "</table>\n",
       "<p>7162 rows × 3 columns</p>\n",
       "</div>"
      ],
      "text/plain": [
       "                                                   title  \\\n",
       "6            SHORT STOCK DOESN'T HAVE AN EXPIRATION DATE   \n",
       "7                                     THIS IS THE MOMENT   \n",
       "10     We need to keep this movement going, we all ca...   \n",
       "13     $GME price has nothing to do with fundamentals...   \n",
       "19          Daily Discussion Thread for January 28, 2021   \n",
       "...                                                  ...   \n",
       "47112  Regeneron ($RGEN) is rumored to be buying out ...   \n",
       "47116  For those who actually watched the entire Hous...   \n",
       "47118  ASO criminally undervalue and bound to have ma...   \n",
       "47124  Fed warns about potential for ‘significant dec...   \n",
       "47135  There is no crash coming for growth stocks - b...   \n",
       "\n",
       "                                                    body  num_comms  \n",
       "6      Hedgefund whales are spreading disinfo saying ...         53  \n",
       "7      Life isn't fair. My mother always told me that...        178  \n",
       "10      I believe right now is one of those rare oppo...         70  \n",
       "13     Firstly, all of you diamond hands and smooth-b...         61  \n",
       "19     Your daily trading discussion thread. Please k...       5942  \n",
       "...                                                  ...        ...  \n",
       "47112  $REGN ($456) jointly filed an important patent...        138  \n",
       "47116  Full disclosure, I own many shares of both GME...        121  \n",
       "47118  $ASO only going up since IPO\\n\\nCurrent market...         57  \n",
       "47124  The FED released their semi-annual Financial S...         89  \n",
       "47135  First off, yes I’m holding some heavy bags\\n\\n...        144  \n",
       "\n",
       "[7162 rows x 3 columns]"
      ]
     },
     "execution_count": 14,
     "metadata": {},
     "output_type": "execute_result"
    }
   ],
   "source": [
    "df_1=pd.DataFrame()\n",
    "df_1['title']=df.loc[(df.score == 1 ),'title']\n",
    "df_1['body']=df.loc[(df.score == 1 ),'body']\n",
    "df_1['num_comms']=df.loc[(df.score == 1 ),'comms_num']\n",
    "df_1"
   ]
  },
  {
   "cell_type": "code",
   "execution_count": 15,
   "id": "9dc328ab",
   "metadata": {},
   "outputs": [
    {
     "data": {
      "text/html": [
       "<div>\n",
       "<style scoped>\n",
       "    .dataframe tbody tr th:only-of-type {\n",
       "        vertical-align: middle;\n",
       "    }\n",
       "\n",
       "    .dataframe tbody tr th {\n",
       "        vertical-align: top;\n",
       "    }\n",
       "\n",
       "    .dataframe thead th {\n",
       "        text-align: right;\n",
       "    }\n",
       "</style>\n",
       "<table border=\"1\" class=\"dataframe\">\n",
       "  <thead>\n",
       "    <tr style=\"text-align: right;\">\n",
       "      <th></th>\n",
       "      <th>title</th>\n",
       "      <th>body</th>\n",
       "      <th>num_comms</th>\n",
       "    </tr>\n",
       "  </thead>\n",
       "  <tbody>\n",
       "    <tr>\n",
       "      <th>2</th>\n",
       "      <td>Exit the system</td>\n",
       "      <td>The CEO of NASDAQ pushed to halt trading “to g...</td>\n",
       "      <td>47</td>\n",
       "    </tr>\n",
       "    <tr>\n",
       "      <th>12</th>\n",
       "      <td>Once you're done with GME - $AG and $SLV, the ...</td>\n",
       "      <td>You guys are champs. GME... who would have tho...</td>\n",
       "      <td>16</td>\n",
       "    </tr>\n",
       "    <tr>\n",
       "      <th>65</th>\n",
       "      <td>Dillard's the short play no one is talking about</td>\n",
       "      <td>Dillard's has been quietly gaining attention t...</td>\n",
       "      <td>37</td>\n",
       "    </tr>\n",
       "    <tr>\n",
       "      <th>80</th>\n",
       "      <td>Can we ethically cash out our tendies?</td>\n",
       "      <td>So we ALL already know: Game Stop is going to ...</td>\n",
       "      <td>120</td>\n",
       "    </tr>\n",
       "    <tr>\n",
       "      <th>104</th>\n",
       "      <td>Fellow WSBers: Don't sleep on Demo Day. Accumu...</td>\n",
       "      <td>EDIT AGAIN:  Alright fine.  My last $3,000 in ...</td>\n",
       "      <td>32</td>\n",
       "    </tr>\n",
       "    <tr>\n",
       "      <th>...</th>\n",
       "      <td>...</td>\n",
       "      <td>...</td>\n",
       "      <td>...</td>\n",
       "    </tr>\n",
       "    <tr>\n",
       "      <th>47128</th>\n",
       "      <td>Order Flow into the Billions ~ is that Reason for</td>\n",
       "      <td>A report just came out for the first quarter f...</td>\n",
       "      <td>15</td>\n",
       "    </tr>\n",
       "    <tr>\n",
       "      <th>47129</th>\n",
       "      <td>FLGT Fulgent Genetics Earnings Record!</td>\n",
       "      <td>I am long on FLGT! I think way too many people...</td>\n",
       "      <td>23</td>\n",
       "    </tr>\n",
       "    <tr>\n",
       "      <th>47130</th>\n",
       "      <td>Anyone here in $PINS?</td>\n",
       "      <td>Before you laugh at me just indulge me for a f...</td>\n",
       "      <td>31</td>\n",
       "    </tr>\n",
       "    <tr>\n",
       "      <th>47131</th>\n",
       "      <td>Changes to Calls/Puts Open Interest Holdings W...</td>\n",
       "      <td>How many total open interest calls were added...</td>\n",
       "      <td>9</td>\n",
       "    </tr>\n",
       "    <tr>\n",
       "      <th>47133</th>\n",
       "      <td>Uranium DD</td>\n",
       "      <td>TL:DR - Supply and demand fundamentals require...</td>\n",
       "      <td>59</td>\n",
       "    </tr>\n",
       "  </tbody>\n",
       "</table>\n",
       "<p>14928 rows × 3 columns</p>\n",
       "</div>"
      ],
      "text/plain": [
       "                                                   title  \\\n",
       "2                                        Exit the system   \n",
       "12     Once you're done with GME - $AG and $SLV, the ...   \n",
       "65      Dillard's the short play no one is talking about   \n",
       "80                Can we ethically cash out our tendies?   \n",
       "104    Fellow WSBers: Don't sleep on Demo Day. Accumu...   \n",
       "...                                                  ...   \n",
       "47128  Order Flow into the Billions ~ is that Reason for   \n",
       "47129             FLGT Fulgent Genetics Earnings Record!   \n",
       "47130                              Anyone here in $PINS?   \n",
       "47131  Changes to Calls/Puts Open Interest Holdings W...   \n",
       "47133                                         Uranium DD   \n",
       "\n",
       "                                                    body  num_comms  \n",
       "2      The CEO of NASDAQ pushed to halt trading “to g...         47  \n",
       "12     You guys are champs. GME... who would have tho...         16  \n",
       "65     Dillard's has been quietly gaining attention t...         37  \n",
       "80     So we ALL already know: Game Stop is going to ...        120  \n",
       "104    EDIT AGAIN:  Alright fine.  My last $3,000 in ...         32  \n",
       "...                                                  ...        ...  \n",
       "47128  A report just came out for the first quarter f...         15  \n",
       "47129  I am long on FLGT! I think way too many people...         23  \n",
       "47130  Before you laugh at me just indulge me for a f...         31  \n",
       "47131   How many total open interest calls were added...          9  \n",
       "47133  TL:DR - Supply and demand fundamentals require...         59  \n",
       "\n",
       "[14928 rows x 3 columns]"
      ]
     },
     "execution_count": 15,
     "metadata": {},
     "output_type": "execute_result"
    }
   ],
   "source": [
    "df_0=pd.DataFrame()\n",
    "df_0['title']=df.loc[(df.score == 0 ),'title']\n",
    "df_0['body']=df.loc[(df.score == 0 ),'body']\n",
    "df_0['num_comms']= df.loc[(df.score == 0 ),'comms_num']\n",
    "df_0"
   ]
  },
  {
   "cell_type": "code",
   "execution_count": 16,
   "id": "c05159fc",
   "metadata": {},
   "outputs": [
    {
     "name": "stdout",
     "output_type": "stream",
     "text": [
      "7162\n",
      "14928\n"
     ]
    }
   ],
   "source": [
    "print(len(df_1))\n",
    "print(len(df_0))"
   ]
  },
  {
   "cell_type": "code",
   "execution_count": 17,
   "id": "7372eeea",
   "metadata": {},
   "outputs": [
    {
     "data": {
      "image/png": "[encoded data removed]",
      "text/plain": [
       "<Figure size 720x504 with 1 Axes>"
      ]
     },
     "metadata": {},
     "output_type": "display_data"
    }
   ],
   "source": [
    "catgory=['more then 50 likes','less then 50 likes']\n",
    "data = [len(df_1),len(df_0)]\n",
    "fig = plt.figure(figsize =(10, 7))\n",
    "plt.pie(data, labels = catgory)\n",
    "plt.show()"
   ]
  },
  {
   "cell_type": "markdown",
   "id": "6c7faeda",
   "metadata": {},
   "source": [
    "# more and less title"
   ]
  },
  {
   "cell_type": "code",
   "execution_count": 18,
   "id": "77439305",
   "metadata": {},
   "outputs": [],
   "source": [
    "#more then 50 likes \n",
    "more=''\n",
    "for name in df_1.title:\n",
    "    more+=name\n",
    "more=more.lower()\n"
   ]
  },
  {
   "cell_type": "code",
   "execution_count": 19,
   "id": "33da3f53",
   "metadata": {},
   "outputs": [],
   "source": [
    "#less then 50 likes \n",
    "less=''\n",
    "for name in df_0.title:\n",
    "    less+=name\n",
    "less=less.lower()\n"
   ]
  },
  {
   "cell_type": "markdown",
   "id": "244f05cc",
   "metadata": {},
   "source": [
    "# Tokenization"
   ]
  },
  {
   "cell_type": "code",
   "execution_count": 20,
   "id": "2e93fcf0",
   "metadata": {},
   "outputs": [],
   "source": [
    "#for more then 50 liks "
   ]
  },
  {
   "cell_type": "code",
   "execution_count": 21,
   "id": "1c9e1f6d",
   "metadata": {},
   "outputs": [
    {
     "name": "stdout",
     "output_type": "stream",
     "text": [
      "less then 50 likes\n",
      "['exit', 'the', 'systemonce', 'you', 're', 'done', 'with', 'gme', 'ag', 'and']\n",
      "\n",
      "more then 50 likes\n",
      "['short', 'stock', 'doesn', 't', 'have', 'an', 'expiration', 'datethis', 'is', 'the']\n"
     ]
    }
   ],
   "source": [
    "tokenizer1=nltk.tokenize.RegexpTokenizer(r'\\w+')\n",
    "words1 = tokenizer1.tokenize(more)\n",
    "\n",
    "\n",
    "tokenizer0=nltk.tokenize.RegexpTokenizer(r'\\w+')\n",
    "words0 = tokenizer0.tokenize(less)\n",
    "print(\"less then 50 likes\")\n",
    "print(words0[:10])\n",
    "print()\n",
    "print(\"more then 50 likes\")\n",
    "print(words1[:10])"
   ]
  },
  {
   "cell_type": "code",
   "execution_count": 22,
   "id": "62e02233",
   "metadata": {},
   "outputs": [
    {
     "data": {
      "text/plain": [
       "['not', 'now', 'o', 'of', 'off', 'on', 'once', 'only', 'or', 'other']"
      ]
     },
     "execution_count": 22,
     "metadata": {},
     "output_type": "execute_result"
    }
   ],
   "source": [
    "stopWords=sorted(nltk.corpus.stopwords.words('english'))\n",
    "\n",
    "stopWords[95:105]"
   ]
  },
  {
   "cell_type": "code",
   "execution_count": 23,
   "id": "f324255e",
   "metadata": {},
   "outputs": [
    {
     "name": "stdout",
     "output_type": "stream",
     "text": [
      "less then 50 likes\n",
      "['exit', 'systemonce', 'done', 'gme', 'ag', 'slv', 'gentleman', 'short', 'squeeze', 'driven']\n",
      "\n",
      "more then 50 likes\n",
      "['short', 'stock', 'expiration', 'datethis', 'momentwe', 'need', 'keep', 'movement', 'going', 'make']\n"
     ]
    }
   ],
   "source": [
    "words1 = [t.lower() for t in words1 if t not in stopWords]\n",
    "words0 = [t.lower() for t in words0 if t not in stopWords]\n",
    "print(\"less then 50 likes\")\n",
    "print(words0[:10])\n",
    "print()\n",
    "print(\"more then 50 likes\")\n",
    "print(words1[:10])"
   ]
  },
  {
   "cell_type": "code",
   "execution_count": 24,
   "id": "9dae5ed2",
   "metadata": {},
   "outputs": [
    {
     "name": "stdout",
     "output_type": "stream",
     "text": [
      "less then 50 likes\n",
      "{'crushing': 1, 'cruz': 1, 'crwd': 1, 'cry': 6, 'crybabiesgme': 1, 'crycan': 1, 'crying': 5, 'cryinghalt': 1, 'crypto': 10, 'cryptobros': 1}\n",
      "\n",
      "more then 50 likes\n",
      "{'expect': 10, 'expectations': 6, 'expectationsbiden': 1, 'expectationsjust': 1, 'expected': 10, 'expectedhexo': 1, 'expecting': 2, 'expects': 1, 'expeinteresting': 1, 'expense': 1}\n"
     ]
    }
   ],
   "source": [
    "freqDist1={}\n",
    "for t in sorted(set(words1)):\n",
    "    freqDist1[t]=words1.count(t)\n",
    "\n",
    "    \n",
    "freqDist0={}\n",
    "for t in sorted(set(words0)):\n",
    "    freqDist0[t]=words0.count(t)\n",
    "print(\"less then 50 likes\")   \n",
    "print(dict(list(freqDist0.items())[3650:3660]))\n",
    "print()\n",
    "print(\"more then 50 likes\")\n",
    "print(dict(list(freqDist1.items())[3650:3660]) )"
   ]
  },
  {
   "cell_type": "code",
   "execution_count": 25,
   "id": "238b2abb",
   "metadata": {},
   "outputs": [
    {
     "name": "stdout",
     "output_type": "stream",
     "text": [
      "more then 50 likes\n",
      "{'copied': 1, 'copies': 1, 'copy': 1, 'core': 2, 'corn': 2, 'corner': 6, 'cornered': 1, 'cornerswhy': 1, 'corno4825': 1, 'coronavirusyolo': 1, 'corp': 4, 'corpo': 1, 'corporation': 3, 'corporations': 1, 'correct': 4, 'correction': 5, 'correctiondays': 1, 'corrections': 4, 'correctionuse': 1, 'correlating': 1, 'correlation': 4, 'correlationblackberry': 1, 'corrupt': 6, 'corsair': 10, 'cortez': 1, 'cost': 12, 'costco': 1, 'costgambling': 1, 'costing': 3, 'costs': 1, 'coty': 1, 'could': 71, 'council': 1, 'counsel': 1, 'count': 6, 'counted': 3, 'counter': 6, 'counterfeit': 3, 'counting': 2, 'country': 4, 'counts': 1, 'coup': 2, 'couple': 8, 'cour': 1, 'course': 2, 'coursera': 1, 'court': 1, 'courtesy': 1, 'covaxin': 1, 'covaxinaphria': 1}  of  10727  words\n",
      "\n",
      "less then 50 likes\n",
      "{'bustwhat': 1, 'busy': 1, 'buti': 1, 'butnext': 1, 'butsuper': 1, 'butt': 2, 'button': 8, 'buttoons': 1, 'butts': 1, 'bux': 2, 'buy': 1340, 'buya': 1, 'buyable': 1, 'buyaccount': 1, 'buyactual': 1, 'buyally': 1, 'buyalmost': 1, 'buyamc': 1, 'buyanyone': 1, 'buybiden': 1, 'buybig': 1, 'buybuy': 1, 'buycan': 2, 'buydenwsb': 1, 'buye': 1, 'buyeff': 1, 'buyer': 1, 'buyers': 7, 'buyersstarting': 1, 'buyerstaking': 1, 'buyersvolume': 1, 'buyfidelity': 1, 'buyfile': 1, 'buyfinally': 1, 'buygamestop': 2, 'buygme': 1, 'buyi': 4, 'buyill': 1, 'buyimg': 1, 'buying': 284, 'buyingalexis': 1, 'buyingcan': 1, 'buyingdegiro': 1, 'buyingdid': 1, 'buyingfor': 1, 'buyingholy': 1, 'buyinghow': 1, 'buyingi': 1, 'buyingis': 1, 'buyingiwm': 1}  of  15448  words\n"
     ]
    }
   ],
   "source": [
    "def bagOfWords(tokens):\n",
    "    '''\n",
    "    Given list of tokens, return a dictionary where \n",
    "         keys  = words in the text\n",
    "         value = count of the words in the text    \n",
    "    '''    \n",
    "    # put each word and the count into a dictionary\n",
    "    freqDist={}\n",
    "    for t in sorted(set(tokens)):\n",
    "        freqDist[t]=tokens.count(t)\n",
    "        \n",
    "    return freqDist\n",
    "\n",
    "\n",
    "# to use the function\n",
    "\n",
    "bags1=bagOfWords(words1)\n",
    "bags0=bagOfWords(words0)\n",
    "print(\"more then 50 likes\") \n",
    "print({k: bags1[k] for k in list(bags1.keys())[2500:2550]},' of ', len(bags1), ' words')\n",
    "print()\n",
    "print(\"less then 50 likes\") \n",
    "print({k: bags0[k] for k in list(bags0.keys())[2500:2550]},' of ', len(bags0), ' words')"
   ]
  },
  {
   "cell_type": "markdown",
   "id": "e46d36db",
   "metadata": {},
   "source": [
    "# most frequent words in the title"
   ]
  },
  {
   "cell_type": "code",
   "execution_count": 26,
   "id": "bef4a0b7",
   "metadata": {},
   "outputs": [
    {
     "data": {
      "text/plain": [
       "[('gme', 1306),\n",
       " ('short', 409),\n",
       " ('dd', 337),\n",
       " ('amc', 327),\n",
       " ('buy', 260),\n",
       " ('stock', 257),\n",
       " ('squeeze', 231),\n",
       " ('market', 224),\n",
       " ('robinhood', 221),\n",
       " ('wsb', 180)]"
      ]
     },
     "execution_count": 26,
     "metadata": {},
     "output_type": "execute_result"
    }
   ],
   "source": [
    "#more then 50 likes\n",
    "sortedBags1 = sorted(bags1.items(), key=lambda x: x[1], reverse=True)\n",
    "sortedBags1[:10]"
   ]
  },
  {
   "cell_type": "code",
   "execution_count": 27,
   "id": "8eed7410",
   "metadata": {},
   "outputs": [
    {
     "data": {
      "text/plain": [
       "[('gme', 2092),\n",
       " ('buy', 1340),\n",
       " ('robinhood', 1055),\n",
       " ('amc', 972),\n",
       " ('hold', 734),\n",
       " ('stock', 489),\n",
       " ('sell', 437),\n",
       " ('still', 423),\n",
       " ('bb', 399),\n",
       " ('get', 383)]"
      ]
     },
     "execution_count": 27,
     "metadata": {},
     "output_type": "execute_result"
    }
   ],
   "source": [
    "#less then 50 likes\n",
    "sortedBags0 = sorted(bags0.items(), key=lambda x: x[1], reverse=True)\n",
    "sortedBags0[:10]"
   ]
  },
  {
   "cell_type": "code",
   "execution_count": 28,
   "id": "d172d871",
   "metadata": {},
   "outputs": [
    {
     "data": {
      "text/plain": [
       "[('short', 'stock'),\n",
       " ('stock', 'expiration'),\n",
       " ('expiration', 'datethis'),\n",
       " ('datethis', 'momentwe'),\n",
       " ('momentwe', 'need'),\n",
       " ('need', 'keep'),\n",
       " ('keep', 'movement'),\n",
       " ('movement', 'going'),\n",
       " ('going', 'make'),\n",
       " ('make', 'history')]"
      ]
     },
     "execution_count": 28,
     "metadata": {},
     "output_type": "execute_result"
    }
   ],
   "source": [
    "bigram1 = list(nltk.bigrams(words1))\n",
    "bigram1[:10]"
   ]
  },
  {
   "cell_type": "code",
   "execution_count": 29,
   "id": "169c52c9",
   "metadata": {},
   "outputs": [
    {
     "data": {
      "text/plain": [
       "[('exit', 'systemonce'),\n",
       " ('systemonce', 'done'),\n",
       " ('done', 'gme'),\n",
       " ('gme', 'ag'),\n",
       " ('ag', 'slv'),\n",
       " ('slv', 'gentleman'),\n",
       " ('gentleman', 'short'),\n",
       " ('short', 'squeeze'),\n",
       " ('squeeze', 'driven'),\n",
       " ('driven', 'macro')]"
      ]
     },
     "execution_count": 29,
     "metadata": {},
     "output_type": "execute_result"
    }
   ],
   "source": [
    "bigram0 = list(nltk.bigrams(words0))\n",
    "bigram0[:10]"
   ]
  },
  {
   "cell_type": "code",
   "execution_count": 30,
   "id": "9bbaeb1c",
   "metadata": {},
   "outputs": [
    {
     "data": {
      "text/plain": [
       "[(('discussion', 'thread'), 91),\n",
       " (('hedge', 'funds'), 90),\n",
       " (('short', 'squeeze'), 77),\n",
       " (('short', 'interest'), 73),\n",
       " (('moves', 'tomorrow'), 71),\n",
       " (('gme', 'amc'), 67),\n",
       " (('please', 'read'), 50),\n",
       " (('gme', 'short'), 49),\n",
       " (('diamond', 'hands'), 43),\n",
       " (('gamma', 'squeeze'), 37)]"
      ]
     },
     "execution_count": 30,
     "metadata": {},
     "output_type": "execute_result"
    }
   ],
   "source": [
    "bigramCount1={}\n",
    "for t in sorted(set(bigram1)):\n",
    "    bigramCount1[t]=bigram1.count(t)\n",
    "sortedBigram1 = sorted(bigramCount1.items(), key=lambda x: x[1], reverse=True)\n",
    "sortedBigram1[:10]"
   ]
  },
  {
   "cell_type": "code",
   "execution_count": 31,
   "id": "abfd9cec",
   "metadata": {},
   "outputs": [
    {
     "data": {
      "text/plain": [
       "[(('buy', 'gme'), 290),\n",
       " (('gme', 'amc'), 235),\n",
       " (('hedge', 'funds'), 101),\n",
       " (('buy', 'dip'), 94),\n",
       " (('amc', 'gme'), 89),\n",
       " (('hold', 'line'), 89),\n",
       " (('amc', 'nok'), 83),\n",
       " (('amc', 'bb'), 73),\n",
       " (('buy', 'buy'), 73),\n",
       " (('class', 'action'), 72)]"
      ]
     },
     "execution_count": 31,
     "metadata": {},
     "output_type": "execute_result"
    }
   ],
   "source": [
    "bigramCount0={}\n",
    "for t in sorted(set(bigram0)):\n",
    "    bigramCount0[t]=bigram0.count(t)\n",
    "sortedBigram0 = sorted(bigramCount0.items(), key=lambda x: x[1], reverse=True)\n",
    "sortedBigram0[:10]"
   ]
  },
  {
   "cell_type": "code",
   "execution_count": 32,
   "id": "d1ae430f",
   "metadata": {},
   "outputs": [
    {
     "data": {
      "text/plain": [
       "[(('rules', 'please', 'read'), 36),\n",
       " (('daily', 'discussion', 'thread'), 23),\n",
       " (('discussion', 'thread', 'march'), 23)]"
      ]
     },
     "execution_count": 32,
     "metadata": {},
     "output_type": "execute_result"
    }
   ],
   "source": [
    "trigram1 = list(nltk.trigrams(words1))\n",
    "trigramCount1={}\n",
    "for t in sorted(set(trigram1)):\n",
    "    trigramCount1[t]=trigram1.count(t)\n",
    "sortedTrigram1 = sorted(trigramCount1.items(), key=lambda x: x[1], reverse=True)\n",
    "sortedTrigram1[:3]"
   ]
  },
  {
   "cell_type": "code",
   "execution_count": 33,
   "id": "9111f846",
   "metadata": {},
   "outputs": [
    {
     "data": {
      "text/plain": [
       "[(('daily', 'discussion', 'thread'), 54),\n",
       " (('ag', 'ag', 'ag'), 37),\n",
       " (('gme', 'amc', 'bb'), 35)]"
      ]
     },
     "execution_count": 33,
     "metadata": {},
     "output_type": "execute_result"
    }
   ],
   "source": [
    "trigram0 = list(nltk.trigrams(words0))\n",
    "trigramCount0={}\n",
    "for t in sorted(set(trigram0)):\n",
    "    trigramCount0[t]=trigram0.count(t)\n",
    "sortedTrigram0 = sorted(trigramCount0.items(), key=lambda x: x[1], reverse=True)\n",
    "sortedTrigram0[:3]\n"
   ]
  },
  {
   "cell_type": "code",
   "execution_count": 34,
   "id": "6a20141a",
   "metadata": {},
   "outputs": [
    {
     "name": "stdout",
     "output_type": "stream",
     "text": [
      "Frequency of top 10, 3 words, less then 50 likes\n"
     ]
    },
    {
     "data": {
      "image/png": "[encoded data removed]",
      "text/plain": [
       "<Figure size 432x432 with 1 Axes>"
      ]
     },
     "metadata": {},
     "output_type": "display_data"
    }
   ],
   "source": [
    "\n",
    "\n",
    "dfd=sortedTrigram0[:10]\n",
    "w = []\n",
    "m = []\n",
    "f =pd.DataFrame()\n",
    "for d in dfd:\n",
    "    m.append(d[0])\n",
    "    w.append(d[1])\n",
    "    \n",
    "f['w'] = w\n",
    "f['m'] = m\n",
    "print('Frequency of top 10, 3 words, less then 50 likes')\n",
    "\n",
    "fig, ax = plt.subplots(figsize=(6,6))\n",
    "sns.barplot(x=\"w\", y=\"m\", data=f, palette=sns.cubehelix_palette(n_colors=10, reverse=True), ax=ax);\n",
    "\n",
    "\n",
    "ax.tick_params(axis=\"y\", labelsize=20)\n",
    "plt.xlabel('Frequency')\n",
    "plt.ylabel('3 words')\n",
    "plt.show()\n",
    "del f\n",
    "del dfd\n"
   ]
  },
  {
   "cell_type": "code",
   "execution_count": 35,
   "id": "01b79dec",
   "metadata": {},
   "outputs": [
    {
     "name": "stdout",
     "output_type": "stream",
     "text": [
      "Frequency of top 10, 3 words, more then 50 likes\n"
     ]
    },
    {
     "data": {
      "image/png": "[encoded data removed]",
      "text/plain": [
       "<Figure size 432x432 with 1 Axes>"
      ]
     },
     "metadata": {},
     "output_type": "display_data"
    }
   ],
   "source": [
    "dfd=sortedTrigram1[:10]\n",
    "w = []\n",
    "m = []\n",
    "f =pd.DataFrame()\n",
    "for d in dfd:\n",
    "    m.append(d[0])\n",
    "    w.append(d[1])\n",
    "    \n",
    "f['w'] = w\n",
    "f['m'] = m\n",
    "print('Frequency of top 10, 3 words, more then 50 likes')\n",
    "\n",
    "fig, ax = plt.subplots(figsize=(6,6))\n",
    "sns.barplot(x=\"w\", y=\"m\", data=f, palette=sns.cubehelix_palette(n_colors=10, reverse=True), ax=ax);\n",
    "\n",
    "\n",
    "ax.tick_params(axis=\"y\", labelsize=20)\n",
    "plt.xlabel('Frequency')\n",
    "plt.ylabel('3 words')\n",
    "plt.show()\n",
    "del f\n",
    "del dfd"
   ]
  },
  {
   "cell_type": "code",
   "execution_count": 36,
   "id": "85864f55",
   "metadata": {},
   "outputs": [
    {
     "name": "stdout",
     "output_type": "stream",
     "text": [
      "Frequency of top 10, 2 words, more then 50 likes\n"
     ]
    },
    {
     "data": {
      "image/png": "[encoded data removed]",
      "text/plain": [
       "<Figure size 432x432 with 1 Axes>"
      ]
     },
     "metadata": {},
     "output_type": "display_data"
    }
   ],
   "source": [
    "dfd=sortedBigram1[:10]\n",
    "w = []\n",
    "m = []\n",
    "f =pd.DataFrame()\n",
    "for d in dfd:\n",
    "    m.append(d[0])\n",
    "    w.append(d[1])\n",
    "    \n",
    "f['w'] = w\n",
    "f['m'] = m\n",
    "print('Frequency of top 10, 2 words, more then 50 likes')\n",
    "\n",
    "fig, ax = plt.subplots(figsize=(6,6))\n",
    "sns.barplot(x=\"w\", y=\"m\", data=f, palette=sns.cubehelix_palette(n_colors=10, reverse=True), ax=ax);\n",
    "\n",
    "\n",
    "ax.tick_params(axis=\"y\", labelsize=20)\n",
    "plt.xlabel('Frequency')\n",
    "plt.ylabel('2 words')\n",
    "plt.show()\n",
    "del f\n",
    "del dfd"
   ]
  },
  {
   "cell_type": "code",
   "execution_count": 37,
   "id": "95ef1064",
   "metadata": {},
   "outputs": [
    {
     "name": "stdout",
     "output_type": "stream",
     "text": [
      "Frequency of top 10, 2 words, less then 50 likes\n"
     ]
    },
    {
     "data": {
      "image/png": "[encoded data removed]",
      "text/plain": [
       "<Figure size 432x432 with 1 Axes>"
      ]
     },
     "metadata": {},
     "output_type": "display_data"
    }
   ],
   "source": [
    "dfd=sortedBigram0[:10]\n",
    "w = []\n",
    "m = []\n",
    "f =pd.DataFrame()\n",
    "for d in dfd:\n",
    "    m.append(d[0])\n",
    "    w.append(d[1])\n",
    "    \n",
    "f['w'] = w\n",
    "f['m'] = m\n",
    "print('Frequency of top 10, 2 words, less then 50 likes')\n",
    "\n",
    "fig, ax = plt.subplots(figsize=(6,6))\n",
    "sns.barplot(x=\"w\", y=\"m\", data=f, palette=sns.cubehelix_palette(n_colors=10, reverse=True), ax=ax);\n",
    "\n",
    "\n",
    "ax.tick_params(axis=\"y\", labelsize=20)\n",
    "plt.xlabel('Frequency')\n",
    "plt.ylabel('2 words')\n",
    "plt.show()\n",
    "del f\n",
    "del dfd"
   ]
  },
  {
   "cell_type": "code",
   "execution_count": 38,
   "id": "f896e28a",
   "metadata": {},
   "outputs": [
    {
     "name": "stdout",
     "output_type": "stream",
     "text": [
      "Frequency of top 10, 1 words, less then 50 likes\n"
     ]
    },
    {
     "data": {
      "image/png": "[encoded data removed]",
      "text/plain": [
       "<Figure size 432x432 with 1 Axes>"
      ]
     },
     "metadata": {},
     "output_type": "display_data"
    }
   ],
   "source": [
    "dfd=sortedBags0[:10]\n",
    "w = []\n",
    "m = []\n",
    "f =pd.DataFrame()\n",
    "for d in dfd:\n",
    "    m.append(d[0])\n",
    "    w.append(d[1])\n",
    "    \n",
    "f['w'] = w\n",
    "f['m'] = m\n",
    "print('Frequency of top 10, 1 words, less then 50 likes')\n",
    "\n",
    "fig, ax = plt.subplots(figsize=(6,6))\n",
    "sns.barplot(x=\"w\", y=\"m\", data=f, palette=sns.cubehelix_palette(n_colors=10, reverse=True), ax=ax);\n",
    "\n",
    "ax.tick_params(axis=\"y\", labelsize=20)\n",
    "plt.xlabel('Frequency')\n",
    "plt.ylabel('1 words')\n",
    "plt.show()\n",
    "del f\n",
    "del dfd"
   ]
  },
  {
   "cell_type": "code",
   "execution_count": 39,
   "id": "272b9b8d",
   "metadata": {},
   "outputs": [
    {
     "name": "stdout",
     "output_type": "stream",
     "text": [
      "Frequency of top 10, 1 words, more then 50 likes\n"
     ]
    },
    {
     "data": {
      "image/png": "[encoded data removed]",
      "text/plain": [
       "<Figure size 432x432 with 1 Axes>"
      ]
     },
     "metadata": {},
     "output_type": "display_data"
    }
   ],
   "source": [
    "dfd=sortedBags1[:10]\n",
    "w = []\n",
    "m = []\n",
    "f =pd.DataFrame()\n",
    "for d in dfd:\n",
    "    m.append(d[0])\n",
    "    w.append(d[1])\n",
    "    \n",
    "f['w'] = w\n",
    "f['m'] = m\n",
    "print('Frequency of top 10, 1 words, more then 50 likes')\n",
    "\n",
    "fig, ax = plt.subplots(figsize=(6,6))\n",
    "sns.barplot(x=\"w\", y=\"m\", data=f, palette=sns.cubehelix_palette(n_colors=10, reverse=True), ax=ax);\n",
    "\n",
    "\n",
    "ax.tick_params(axis=\"y\", labelsize=20)\n",
    "plt.xlabel('Frequency')\n",
    "plt.ylabel('1 words')\n",
    "plt.show()\n",
    "del f\n",
    "del dfd"
   ]
  },
  {
   "cell_type": "code",
   "execution_count": 40,
   "id": "efa0ec9c",
   "metadata": {},
   "outputs": [
    {
     "name": "stdout",
     "output_type": "stream",
     "text": [
      "('rules', 'please', 'read')\n"
     ]
    }
   ],
   "source": [
    "print(sortedTrigram1[0][0])"
   ]
  },
  {
   "cell_type": "code",
   "execution_count": 41,
   "id": "a5a09d90",
   "metadata": {},
   "outputs": [
    {
     "name": "stdout",
     "output_type": "stream",
     "text": [
      "409\n"
     ]
    }
   ],
   "source": [
    "print(sortedBags1[1][1])"
   ]
  },
  {
   "cell_type": "markdown",
   "id": "8a6a4dde",
   "metadata": {},
   "source": [
    "# most frequent words in the Body"
   ]
  },
  {
   "cell_type": "markdown",
   "id": "7ba37983",
   "metadata": {},
   "source": [
    "# remove links"
   ]
  },
  {
   "cell_type": "code",
   "execution_count": 42,
   "id": "cc75ddfc",
   "metadata": {},
   "outputs": [
    {
     "name": "stdout",
     "output_type": "stream",
     "text": [
      "3919\n"
     ]
    },
    {
     "data": {
      "text/html": [
       "<div>\n",
       "<style scoped>\n",
       "    .dataframe tbody tr th:only-of-type {\n",
       "        vertical-align: middle;\n",
       "    }\n",
       "\n",
       "    .dataframe tbody tr th {\n",
       "        vertical-align: top;\n",
       "    }\n",
       "\n",
       "    .dataframe thead th {\n",
       "        text-align: right;\n",
       "    }\n",
       "</style>\n",
       "<table border=\"1\" class=\"dataframe\">\n",
       "  <thead>\n",
       "    <tr style=\"text-align: right;\">\n",
       "      <th></th>\n",
       "      <th>body</th>\n",
       "    </tr>\n",
       "  </thead>\n",
       "  <tbody>\n",
       "    <tr>\n",
       "      <th>0</th>\n",
       "      <td>Hedgefund whales are spreading disinfo saying ...</td>\n",
       "    </tr>\n",
       "    <tr>\n",
       "      <th>1</th>\n",
       "      <td>Life isn't fair. My mother always told me that...</td>\n",
       "    </tr>\n",
       "    <tr>\n",
       "      <th>2</th>\n",
       "      <td>I believe right now is one of those rare oppo...</td>\n",
       "    </tr>\n",
       "    <tr>\n",
       "      <th>3</th>\n",
       "      <td>Firstly, all of you diamond hands and smooth-b...</td>\n",
       "    </tr>\n",
       "    <tr>\n",
       "      <th>4</th>\n",
       "      <td>This is our time. If anyone will listen to you...</td>\n",
       "    </tr>\n",
       "    <tr>\n",
       "      <th>...</th>\n",
       "      <td>...</td>\n",
       "    </tr>\n",
       "    <tr>\n",
       "      <th>3914</th>\n",
       "      <td>“What if I told you that both the Gates and Be...</td>\n",
       "    </tr>\n",
       "    <tr>\n",
       "      <th>3915</th>\n",
       "      <td>The stock launched in early november, shortly ...</td>\n",
       "    </tr>\n",
       "    <tr>\n",
       "      <th>3916</th>\n",
       "      <td>Full disclosure, I own many shares of both GME...</td>\n",
       "    </tr>\n",
       "    <tr>\n",
       "      <th>3917</th>\n",
       "      <td>$ASO only going up since IPO\\n\\nCurrent market...</td>\n",
       "    </tr>\n",
       "    <tr>\n",
       "      <th>3918</th>\n",
       "      <td>First off, yes I’m holding some heavy bags\\n\\n...</td>\n",
       "    </tr>\n",
       "  </tbody>\n",
       "</table>\n",
       "<p>3919 rows × 1 columns</p>\n",
       "</div>"
      ],
      "text/plain": [
       "                                                   body\n",
       "0     Hedgefund whales are spreading disinfo saying ...\n",
       "1     Life isn't fair. My mother always told me that...\n",
       "2      I believe right now is one of those rare oppo...\n",
       "3     Firstly, all of you diamond hands and smooth-b...\n",
       "4     This is our time. If anyone will listen to you...\n",
       "...                                                 ...\n",
       "3914  “What if I told you that both the Gates and Be...\n",
       "3915  The stock launched in early november, shortly ...\n",
       "3916  Full disclosure, I own many shares of both GME...\n",
       "3917  $ASO only going up since IPO\\n\\nCurrent market...\n",
       "3918  First off, yes I’m holding some heavy bags\\n\\n...\n",
       "\n",
       "[3919 rows x 1 columns]"
      ]
     },
     "execution_count": 42,
     "metadata": {},
     "output_type": "execute_result"
    }
   ],
   "source": [
    "body_list=[]\n",
    "for i in df_1.body:\n",
    "    if not re.findall(r'(https?://[^\\s]+)',i):\n",
    "        body_list.append(i)\n",
    "\n",
    "        \n",
    "df_1_body=pd.DataFrame()\n",
    "df_1_body['body']=body_list\n",
    "print(len(body_list))\n",
    "del body_list\n",
    "df_1_body"
   ]
  },
  {
   "cell_type": "code",
   "execution_count": 43,
   "id": "21ccc031",
   "metadata": {},
   "outputs": [
    {
     "name": "stdout",
     "output_type": "stream",
     "text": [
      "12423\n"
     ]
    },
    {
     "data": {
      "text/html": [
       "<div>\n",
       "<style scoped>\n",
       "    .dataframe tbody tr th:only-of-type {\n",
       "        vertical-align: middle;\n",
       "    }\n",
       "\n",
       "    .dataframe tbody tr th {\n",
       "        vertical-align: top;\n",
       "    }\n",
       "\n",
       "    .dataframe thead th {\n",
       "        text-align: right;\n",
       "    }\n",
       "</style>\n",
       "<table border=\"1\" class=\"dataframe\">\n",
       "  <thead>\n",
       "    <tr style=\"text-align: right;\">\n",
       "      <th></th>\n",
       "      <th>body</th>\n",
       "    </tr>\n",
       "  </thead>\n",
       "  <tbody>\n",
       "    <tr>\n",
       "      <th>0</th>\n",
       "      <td>So we ALL already know: Game Stop is going to ...</td>\n",
       "    </tr>\n",
       "    <tr>\n",
       "      <th>1</th>\n",
       "      <td>So... been watching all you retards for about ...</td>\n",
       "    </tr>\n",
       "    <tr>\n",
       "      <th>2</th>\n",
       "      <td>1. I heard all this crazy stuff with GME and i...</td>\n",
       "    </tr>\n",
       "    <tr>\n",
       "      <th>3</th>\n",
       "      <td>I saw a post like a month ago talking about bu...</td>\n",
       "    </tr>\n",
       "    <tr>\n",
       "      <th>4</th>\n",
       "      <td>I mean my title says everything needed to be s...</td>\n",
       "    </tr>\n",
       "    <tr>\n",
       "      <th>...</th>\n",
       "      <td>...</td>\n",
       "    </tr>\n",
       "    <tr>\n",
       "      <th>12418</th>\n",
       "      <td>I’ll start off by saying my family has owned p...</td>\n",
       "    </tr>\n",
       "    <tr>\n",
       "      <th>12419</th>\n",
       "      <td>Some of you might be following \"entertainers\" ...</td>\n",
       "    </tr>\n",
       "    <tr>\n",
       "      <th>12420</th>\n",
       "      <td>A report just came out for the first quarter f...</td>\n",
       "    </tr>\n",
       "    <tr>\n",
       "      <th>12421</th>\n",
       "      <td>I am long on FLGT! I think way too many people...</td>\n",
       "    </tr>\n",
       "    <tr>\n",
       "      <th>12422</th>\n",
       "      <td>Before you laugh at me just indulge me for a f...</td>\n",
       "    </tr>\n",
       "  </tbody>\n",
       "</table>\n",
       "<p>12423 rows × 1 columns</p>\n",
       "</div>"
      ],
      "text/plain": [
       "                                                    body\n",
       "0      So we ALL already know: Game Stop is going to ...\n",
       "1      So... been watching all you retards for about ...\n",
       "2      1. I heard all this crazy stuff with GME and i...\n",
       "3      I saw a post like a month ago talking about bu...\n",
       "4      I mean my title says everything needed to be s...\n",
       "...                                                  ...\n",
       "12418  I’ll start off by saying my family has owned p...\n",
       "12419  Some of you might be following \"entertainers\" ...\n",
       "12420  A report just came out for the first quarter f...\n",
       "12421  I am long on FLGT! I think way too many people...\n",
       "12422  Before you laugh at me just indulge me for a f...\n",
       "\n",
       "[12423 rows x 1 columns]"
      ]
     },
     "execution_count": 43,
     "metadata": {},
     "output_type": "execute_result"
    }
   ],
   "source": [
    "body_list=[]\n",
    "for i in df_0.body:\n",
    "    if not re.findall(r'(https?://[^\\s]+)',i):\n",
    "        body_list.append(i)\n",
    "\n",
    "        \n",
    "df_0_body=pd.DataFrame()\n",
    "df_0_body['body']=body_list\n",
    "print(len(body_list))\n",
    "del body_list\n",
    "df_0_body"
   ]
  },
  {
   "cell_type": "code",
   "execution_count": 44,
   "id": "f9e4de36",
   "metadata": {},
   "outputs": [
    {
     "name": "stdout",
     "output_type": "stream",
     "text": [
      "5595116\n"
     ]
    }
   ],
   "source": [
    "#more then 50 likes \n",
    "more_b=''\n",
    "for name in df_1_body.body:\n",
    "    more_b+=name\n",
    "more_b=more_b.lower()\n",
    "\n",
    "print(len(more_b))"
   ]
  },
  {
   "cell_type": "code",
   "execution_count": 45,
   "id": "28af6b09",
   "metadata": {},
   "outputs": [
    {
     "name": "stdout",
     "output_type": "stream",
     "text": [
      "5173254\n"
     ]
    }
   ],
   "source": [
    "#less then 50 likes \n",
    "less_b=''\n",
    "for name in df_0_body.body:\n",
    "    less_b+=name\n",
    "less_b=less_b.lower()\n",
    "\n",
    "print(len(less_b))"
   ]
  },
  {
   "cell_type": "code",
   "execution_count": 46,
   "id": "e058a9fa",
   "metadata": {},
   "outputs": [],
   "source": [
    "import spacy"
   ]
  },
  {
   "cell_type": "code",
   "execution_count": 47,
   "id": "f5715d1c",
   "metadata": {},
   "outputs": [],
   "source": [
    "less_b = less_b[:1000000]\n",
    "more_b = more_b[:1000000]\n"
   ]
  },
  {
   "cell_type": "markdown",
   "id": "8540f1a3",
   "metadata": {},
   "source": [
    "# Tokenization Body"
   ]
  },
  {
   "cell_type": "code",
   "execution_count": 48,
   "id": "1d9c7e66",
   "metadata": {},
   "outputs": [
    {
     "name": "stdout",
     "output_type": "stream",
     "text": [
      "less then 50 likes\n",
      "['so', 'we', 'all', 'already', 'know', 'game', 'stop', 'is', 'going', 'to']\n",
      "\n",
      "more then 50 likes\n",
      "['hedgefund', 'whales', 'are', 'spreading', 'disinfo', 'saying', 'friday', 'is', 'make', 'or']\n"
     ]
    }
   ],
   "source": [
    "tokenizer1_b=nltk.tokenize.RegexpTokenizer(r'\\w+')\n",
    "words1_b = tokenizer1_b.tokenize(more_b)\n",
    "\n",
    "\n",
    "tokenizer0_b=nltk.tokenize.RegexpTokenizer(r'\\w+')\n",
    "words0_b = tokenizer0_b.tokenize(less_b)\n",
    "print(\"less then 50 likes\")\n",
    "print(words0_b[:10])\n",
    "print()\n",
    "print(\"more then 50 likes\")\n",
    "print(words1_b[:10])"
   ]
  },
  {
   "cell_type": "code",
   "execution_count": 49,
   "id": "1b9ce500",
   "metadata": {},
   "outputs": [
    {
     "data": {
      "text/plain": [
       "['not', 'now', 'o', 'of', 'off', 'on', 'once', 'only', 'or', 'other']"
      ]
     },
     "execution_count": 49,
     "metadata": {},
     "output_type": "execute_result"
    }
   ],
   "source": [
    "stopWords_b=sorted(nltk.corpus.stopwords.words('english'))\n",
    "\n",
    "stopWords_b[95:105]"
   ]
  },
  {
   "cell_type": "code",
   "execution_count": 50,
   "id": "1967db3b",
   "metadata": {},
   "outputs": [
    {
     "name": "stdout",
     "output_type": "stream",
     "text": [
      "less then 50 likes\n",
      "['already', 'know', 'game', 'stop', 'going', 'fucking', 'moon', 'maybe', 'hit', '420']\n",
      "\n",
      "more then 50 likes\n",
      "['hedgefund', 'whales', 'spreading', 'disinfo', 'saying', 'friday', 'make', 'break', 'gme', 'call']\n"
     ]
    }
   ],
   "source": [
    "words1_b = [t.lower() for t in words1_b if t not in stopWords_b]\n",
    "words0_b = [t.lower() for t in words0_b if t not in stopWords_b]\n",
    "print(\"less then 50 likes\")\n",
    "print(words0_b[:10])\n",
    "print()\n",
    "print(\"more then 50 likes\")\n",
    "print(words1_b[:10])"
   ]
  },
  {
   "cell_type": "code",
   "execution_count": 51,
   "id": "58232ee4",
   "metadata": {},
   "outputs": [
    {
     "data": {
      "text/plain": [
       "[(('gon', 'give', 'ya'), 29),\n",
       " (('amc', 'moon', 'amc'), 26),\n",
       " (('moon', 'amc', 'moon'), 25)]"
      ]
     },
     "execution_count": 51,
     "metadata": {},
     "output_type": "execute_result"
    }
   ],
   "source": [
    "trigram1_b = list(nltk.trigrams(words1_b))\n",
    "trigramCount1_b={}\n",
    "for t in sorted(set(trigram1_b)):\n",
    "    trigramCount1_b[t]=trigram1_b.count(t)\n",
    "sortedTrigram1_b = sorted(trigramCount1_b.items(), key=lambda x: x[1], reverse=True)\n",
    "sortedTrigram1_b[:3]"
   ]
  },
  {
   "cell_type": "code",
   "execution_count": 52,
   "id": "825eeeee",
   "metadata": {},
   "outputs": [
    {
     "data": {
      "text/plain": [
       "[(('nokia', 'nokia', 'nokia'), 95),\n",
       " (('stock', 'like', 'stock'), 68),\n",
       " (('like', 'stock', 'like'), 64)]"
      ]
     },
     "execution_count": 52,
     "metadata": {},
     "output_type": "execute_result"
    }
   ],
   "source": [
    "trigram0_b = list(nltk.trigrams(words0_b))\n",
    "trigramCount0_b={}\n",
    "for t in sorted(set(trigram0_b)):\n",
    "    trigramCount0_b[t]=trigram0_b.count(t)\n",
    "sortedTrigram0_b = sorted(trigramCount0_b.items(), key=lambda x: x[1], reverse=True)\n",
    "sortedTrigram0_b[:3]"
   ]
  },
  {
   "cell_type": "code",
   "execution_count": 53,
   "id": "4d1e2e04",
   "metadata": {},
   "outputs": [],
   "source": [
    "def oftenUsedNGram(tokens,N):\n",
    "    nGrams = list(nltk.ngrams(tokens, N))\n",
    "    nGramCount={}\n",
    "    for t in sorted(set(nGrams)):\n",
    "        nGramCount[t]=nGrams.count(t)\n",
    "    sortedNgram = sorted(nGramCount.items(), key=lambda x: x[1], reverse=True)\n",
    "    return sortedNgram"
   ]
  },
  {
   "cell_type": "code",
   "execution_count": 54,
   "id": "d492d969",
   "metadata": {},
   "outputs": [
    {
     "data": {
      "text/plain": [
       "[(('amc', 'moon', 'amc', 'moon', 'amc'), 25),\n",
       " (('moon', 'amc', 'moon', 'amc', 'moon'), 24),\n",
       " (('give', 'ya', 'uh', 'gon', 'give'), 13)]"
      ]
     },
     "execution_count": 54,
     "metadata": {},
     "output_type": "execute_result"
    }
   ],
   "source": [
    "#five words more then 50 likes\n",
    "fiveGram1_b=oftenUsedNGram(words1_b,5)\n",
    "fiveGram1_b[:3]"
   ]
  },
  {
   "cell_type": "code",
   "execution_count": 55,
   "id": "0b6293bd",
   "metadata": {},
   "outputs": [
    {
     "data": {
      "text/plain": [
       "[(('nokia', 'nokia', 'nokia', 'nokia', 'nokia'), 92),\n",
       " (('like', 'stock', 'like', 'stock', 'like'), 62),\n",
       " (('stock', 'like', 'stock', 'like', 'stock'), 62)]"
      ]
     },
     "execution_count": 55,
     "metadata": {},
     "output_type": "execute_result"
    }
   ],
   "source": [
    "#five words less then 50 likes\n",
    "fiveGram0_b=oftenUsedNGram(words0_b,5)\n",
    "fiveGram0_b[:3]"
   ]
  },
  {
   "cell_type": "code",
   "execution_count": 56,
   "id": "0309f837",
   "metadata": {},
   "outputs": [
    {
     "data": {
      "text/plain": [
       "[(('amc', 'moon', 'amc', 'moon', 'amc', 'moon', 'amc', 'moon'), 23),\n",
       " (('moon', 'amc', 'moon', 'amc', 'moon', 'amc', 'moon', 'amc'), 23),\n",
       " (('x', 'gon', 'give', 'ya', 'uh', 'gon', 'give', 'ya'), 13)]"
      ]
     },
     "execution_count": 56,
     "metadata": {},
     "output_type": "execute_result"
    }
   ],
   "source": [
    "#eight words more then 50 likes \n",
    "eightGram1_b=oftenUsedNGram(words1_b,8)\n",
    "eightGram1_b[:3]"
   ]
  },
  {
   "cell_type": "code",
   "execution_count": 57,
   "id": "68da2aee",
   "metadata": {},
   "outputs": [
    {
     "data": {
      "text/plain": [
       "[(('nokia', 'nokia', 'nokia', 'nokia', 'nokia', 'nokia', 'nokia', 'nokia'),\n",
       "  89),\n",
       " (('like', 'stock', 'like', 'stock', 'like', 'stock', 'like', 'stock'), 61),\n",
       " (('stock', 'like', 'stock', 'like', 'stock', 'like', 'stock', 'like'), 60)]"
      ]
     },
     "execution_count": 57,
     "metadata": {},
     "output_type": "execute_result"
    }
   ],
   "source": [
    "#eight words less then 50 likes \n",
    "eightGram0_b=oftenUsedNGram(words0_b,8)\n",
    "eightGram0_b[:3]"
   ]
  },
  {
   "cell_type": "code",
   "execution_count": 58,
   "id": "55619914",
   "metadata": {},
   "outputs": [
    {
     "name": "stdout",
     "output_type": "stream",
     "text": [
      "count =  91850\n",
      "Frequency of top 10, 5 words, less then 50 likes\n"
     ]
    },
    {
     "data": {
      "image/png": "[encoded data removed]",
      "text/plain": [
       "<Figure size 432x432 with 1 Axes>"
      ]
     },
     "metadata": {},
     "output_type": "display_data"
    }
   ],
   "source": [
    "dfd=fiveGram0_b[:10]\n",
    "w = []\n",
    "m = []\n",
    "f =pd.DataFrame()\n",
    "for d in dfd:\n",
    "    m.append(d[0])\n",
    "    w.append(d[1])\n",
    "    \n",
    "f['w'] = w\n",
    "f['m'] = m\n",
    "print(\"count = \",len(fiveGram0_b))\n",
    "print('Frequency of top 10, 5 words, less then 50 likes')\n",
    "\n",
    "fig, ax = plt.subplots(figsize=(6,6))\n",
    "sns.barplot(x=\"w\", y=\"m\", data=f, palette=sns.cubehelix_palette(n_colors=10, reverse=True), ax=ax);\n",
    "\n",
    "\n",
    "ax.tick_params(axis=\"y\", labelsize=20)\n",
    "plt.xlabel('Frequency')\n",
    "plt.ylabel('2 words')\n",
    "plt.show()\n",
    "del f\n",
    "del dfd"
   ]
  },
  {
   "cell_type": "code",
   "execution_count": 59,
   "id": "94773bba",
   "metadata": {},
   "outputs": [
    {
     "name": "stdout",
     "output_type": "stream",
     "text": [
      "count =  88540\n",
      "Frequency of top 10, 5 words, more then 50 likes\n"
     ]
    },
    {
     "data": {
      "image/png": "[encoded data removed]",
      "text/plain": [
       "<Figure size 432x432 with 1 Axes>"
      ]
     },
     "metadata": {},
     "output_type": "display_data"
    }
   ],
   "source": [
    "dfd=fiveGram1_b[:10]\n",
    "w = []\n",
    "m = []\n",
    "f =pd.DataFrame()\n",
    "for d in dfd:\n",
    "    m.append(d[0])\n",
    "    w.append(d[1])\n",
    "    \n",
    "f['w'] = w\n",
    "f['m'] = m\n",
    "print(\"count = \",len(fiveGram1_b))\n",
    "print('Frequency of top 10, 5 words, more then 50 likes')\n",
    "\n",
    "fig, ax = plt.subplots(figsize=(6,6))\n",
    "sns.barplot(x=\"w\", y=\"m\", data=f, palette=sns.cubehelix_palette(n_colors=10, reverse=True), ax=ax);\n",
    "\n",
    "\n",
    "ax.tick_params(axis=\"y\", labelsize=20)\n",
    "plt.xlabel('Frequency')\n",
    "plt.ylabel('2 words')\n",
    "plt.show()\n",
    "del f\n",
    "del dfd"
   ]
  },
  {
   "cell_type": "code",
   "execution_count": 60,
   "id": "cd09c4e3",
   "metadata": {},
   "outputs": [
    {
     "name": "stdout",
     "output_type": "stream",
     "text": [
      "count =  92099\n",
      "Frequency of top 10, 8 words, less then 50 likes\n"
     ]
    },
    {
     "data": {
      "image/png": "[encoded data removed]",
      "text/plain": [
       "<Figure size 432x432 with 1 Axes>"
      ]
     },
     "metadata": {},
     "output_type": "display_data"
    }
   ],
   "source": [
    "dfd=eightGram0_b[:10]\n",
    "w = []\n",
    "m = []\n",
    "f =pd.DataFrame()\n",
    "for d in dfd:\n",
    "    m.append(d[0])\n",
    "    w.append(d[1])\n",
    "    \n",
    "f['w'] = w\n",
    "f['m'] = m\n",
    "print(\"count = \",len(eightGram0_b))\n",
    "print('Frequency of top 10, 8 words, less then 50 likes')\n",
    "\n",
    "fig, ax = plt.subplots(figsize=(6,6))\n",
    "sns.barplot(x=\"w\", y=\"m\", data=f, palette=sns.cubehelix_palette(n_colors=10, reverse=True), ax=ax);\n",
    "\n",
    "\n",
    "ax.tick_params(axis=\"y\", labelsize=20)\n",
    "plt.xlabel('Frequency')\n",
    "plt.ylabel('2 words')\n",
    "plt.show()\n",
    "del f\n",
    "del dfd"
   ]
  },
  {
   "cell_type": "code",
   "execution_count": 61,
   "id": "bb9e9144",
   "metadata": {},
   "outputs": [
    {
     "name": "stdout",
     "output_type": "stream",
     "text": [
      "count =  88776\n",
      "Frequency of top 10, 8 words, more then 50 likes\n"
     ]
    },
    {
     "data": {
      "image/png": "[encoded data removed]",
      "text/plain": [
       "<Figure size 432x432 with 1 Axes>"
      ]
     },
     "metadata": {},
     "output_type": "display_data"
    }
   ],
   "source": [
    "dfd=eightGram1_b[:10]\n",
    "w = []\n",
    "m = []\n",
    "f =pd.DataFrame()\n",
    "for d in dfd:\n",
    "    m.append(d[0])\n",
    "    w.append(d[1])\n",
    "    \n",
    "f['w'] = w\n",
    "f['m'] = m\n",
    "print(\"count = \",len(eightGram1_b))\n",
    "print('Frequency of top 10, 8 words, more then 50 likes')\n",
    "\n",
    "fig, ax = plt.subplots(figsize=(6,6))\n",
    "sns.barplot(x=\"w\", y=\"m\", data=f, palette=sns.cubehelix_palette(n_colors=10, reverse=True), ax=ax);\n",
    "\n",
    "\n",
    "ax.tick_params(axis=\"y\", labelsize=20)\n",
    "plt.xlabel('Frequency')\n",
    "plt.ylabel('2 words')\n",
    "plt.show()\n",
    "del f\n",
    "del dfd"
   ]
  },
  {
   "cell_type": "markdown",
   "id": "94983531",
   "metadata": {},
   "source": [
    "# Links"
   ]
  },
  {
   "cell_type": "code",
   "execution_count": 62,
   "id": "5cd09b8b",
   "metadata": {},
   "outputs": [
    {
     "name": "stdout",
     "output_type": "stream",
     "text": [
      "2505 links appers in body less then 50 likes \n",
      "3243 links appers in body more then 50 likes \n"
     ]
    },
    {
     "data": {
      "text/html": [
       "<div>\n",
       "<style scoped>\n",
       "    .dataframe tbody tr th:only-of-type {\n",
       "        vertical-align: middle;\n",
       "    }\n",
       "\n",
       "    .dataframe tbody tr th {\n",
       "        vertical-align: top;\n",
       "    }\n",
       "\n",
       "    .dataframe thead th {\n",
       "        text-align: right;\n",
       "    }\n",
       "</style>\n",
       "<table border=\"1\" class=\"dataframe\">\n",
       "  <thead>\n",
       "    <tr style=\"text-align: right;\">\n",
       "      <th></th>\n",
       "      <th>links</th>\n",
       "    </tr>\n",
       "  </thead>\n",
       "  <tbody>\n",
       "    <tr>\n",
       "      <th>0</th>\n",
       "      <td>https://mobile.twitter.com/Mediaite/status/135...</td>\n",
       "    </tr>\n",
       "    <tr>\n",
       "      <th>1</th>\n",
       "      <td>https://www.bloomberg.com/news/articles/2019-0...</td>\n",
       "    </tr>\n",
       "    <tr>\n",
       "      <th>2</th>\n",
       "      <td>https://www.listennotes.com/podcasts/palisades...</td>\n",
       "    </tr>\n",
       "    <tr>\n",
       "      <th>3</th>\n",
       "      <td>https://preview.redd.it/3yssvdm7y1e61.png?widt...</td>\n",
       "    </tr>\n",
       "    <tr>\n",
       "      <th>4</th>\n",
       "      <td>https://shortsqueeze.com/shortinterest/stock/A...</td>\n",
       "    </tr>\n",
       "    <tr>\n",
       "      <th>...</th>\n",
       "      <td>...</td>\n",
       "    </tr>\n",
       "    <tr>\n",
       "      <th>21617</th>\n",
       "      <td>https://preview.redd.it/klxyr2naukx61.png?widt...</td>\n",
       "    </tr>\n",
       "    <tr>\n",
       "      <th>21618</th>\n",
       "      <td>https://preview.redd.it/mifcc0xbukx61.png?widt...</td>\n",
       "    </tr>\n",
       "    <tr>\n",
       "      <th>21619</th>\n",
       "      <td>https://preview.redd.it/4n1er09dukx61.png?widt...</td>\n",
       "    </tr>\n",
       "    <tr>\n",
       "      <th>21620</th>\n",
       "      <td>https://preview.redd.it/rcrfpqceukx61.png?widt...</td>\n",
       "    </tr>\n",
       "    <tr>\n",
       "      <th>21621</th>\n",
       "      <td>https://preview.redd.it/zk19l0mfukx61.png?widt...</td>\n",
       "    </tr>\n",
       "  </tbody>\n",
       "</table>\n",
       "<p>21622 rows × 1 columns</p>\n",
       "</div>"
      ],
      "text/plain": [
       "                                                   links\n",
       "0      https://mobile.twitter.com/Mediaite/status/135...\n",
       "1      https://www.bloomberg.com/news/articles/2019-0...\n",
       "2      https://www.listennotes.com/podcasts/palisades...\n",
       "3      https://preview.redd.it/3yssvdm7y1e61.png?widt...\n",
       "4      https://shortsqueeze.com/shortinterest/stock/A...\n",
       "...                                                  ...\n",
       "21617  https://preview.redd.it/klxyr2naukx61.png?widt...\n",
       "21618  https://preview.redd.it/mifcc0xbukx61.png?widt...\n",
       "21619  https://preview.redd.it/4n1er09dukx61.png?widt...\n",
       "21620  https://preview.redd.it/rcrfpqceukx61.png?widt...\n",
       "21621  https://preview.redd.it/zk19l0mfukx61.png?widt...\n",
       "\n",
       "[21622 rows x 1 columns]"
      ]
     },
     "execution_count": 62,
     "metadata": {},
     "output_type": "execute_result"
    }
   ],
   "source": [
    "subset = df[['body','score']]\n",
    "\n",
    "\n",
    "tuples = [tuple(x) for x in subset.to_numpy()]\n",
    "\n",
    "x= list()\n",
    "y= list()\n",
    "\n",
    "for var in range(len(tuples)):\n",
    "    #print (tuples[var][1])\n",
    "    #print(tuples[var])\n",
    "    if re.findall(r'(https?://[^\\s]+)', tuples[var][0]):\n",
    "        x.append(re.findall(r'(https?://[^\\s]+)', tuples[var][0]))\n",
    "        y.append(tuples[var][1])\n",
    "        \n",
    "all_links=[]            \n",
    "            \n",
    "for i in range(len(x)):\n",
    "    for j in range(len(x[i])):\n",
    "        all_links.append(x[i][j])\n",
    "        \n",
    "\n",
    "#print(all_links)\n",
    "\n",
    "df_links=pd.DataFrame()          \n",
    "df_links['links']=all_links\n",
    "m=0\n",
    "l=0;\n",
    "for i in y:\n",
    "    if i==1:\n",
    "        m=m+1\n",
    "    else:\n",
    "        l=l+1\n",
    "        \n",
    "\n",
    "print(l, \"links appers in body less then 50 likes \" )\n",
    "print(m, \"links appers in body more then 50 likes \")\n",
    "del x\n",
    "del tuples\n",
    "del subset\n",
    "df_links"
   ]
  },
  {
   "cell_type": "markdown",
   "id": "56fbcb76",
   "metadata": {},
   "source": [
    "# Emoji "
   ]
  },
  {
   "cell_type": "code",
   "execution_count": 63,
   "id": "57773389",
   "metadata": {},
   "outputs": [],
   "source": [
    "import emoji"
   ]
  },
  {
   "cell_type": "code",
   "execution_count": 64,
   "id": "9fbae1d4",
   "metadata": {},
   "outputs": [
    {
     "name": "stdout",
     "output_type": "stream",
     "text": [
      "more then 50 likes number of emoji =  11220\n"
     ]
    }
   ],
   "source": [
    "body_list_all=[]\n",
    "emoji_arr=[]\n",
    "count=0\n",
    "for index, i in df_1.iterrows():\n",
    "    \n",
    "    if not re.findall(r'(https?://[^\\s]+)',i['body']):\n",
    "        text_de= emoji.demojize(i['body'])\n",
    "        emojis_list_de= re.findall(r'(:[!_\\-\\w]+:)', text_de)\n",
    "        list_emoji= [emoji.emojize(x) for x in emojis_list_de]\n",
    "\n",
    "        if list_emoji:\n",
    "            count=count+len(list_emoji)\n",
    "            for i in list_emoji:\n",
    "                if i not in emoji_arr:\n",
    "                    emoji_arr.append(i)\n",
    "print(\"more then 50 likes number of emoji = \",count)"
   ]
  },
  {
   "cell_type": "code",
   "execution_count": 65,
   "id": "ca2f805e",
   "metadata": {},
   "outputs": [
    {
     "name": "stdout",
     "output_type": "stream",
     "text": [
      "['🚀', '💎', '🙌🏻', '😈', '\\U0001f976', '🌈', '🐻', '🖐', '😩', '👐', '✌', '✋', '\\U0001f9fb', '🙌', '✊', '🌛', '📉', '🙏🏻', '🤝', '🤷🏻\\u200d♀️', '\\U0001f94c', '🖕', '🐂', '🌕', '🔥', '\\U0001fa9b', '🦍', '🍿', '✋🏼', '\\U0001f9a7', '👋🏻', '⚠', '👶', '🍆', '🐮', '\\U0001f91f', '🖕🏼', '💩', '♥', '📃', '🤚', '☀', '🌑', '🌎', '💪', '✅', '📈', '™', '🙏', '👉', '🌙', '💦', '🐒', '🎮', '🛑', '🌚', '🌝', '🙌🏽', '🚨', '\\U0001fa90', '🤚🏾', '♾', '🤔', '👏', '⛳', '🏌️\\u200d♂️', '🐳', '\\U0001f932', '🍌', '❤', ':00am:', '😗', '🙌🏼', '✊🏻', '💵', '❗', '👨\\u200d🚀', '🤖', '\\U0001f932🏽', '🌪', '💰', '🆘', '⁉', '😉', '🌞', '🌌', '🤚🏼', '👊', '\\U0001f6f8', '💸', '🎥', '\\U0001f973', ':59:', ':50-15:', '\\U0001f965', ':55-3:', '👩\\u200d🚀', '🤷🏻\\u200d♂️', '🇪🇺', '😤', '👾', '🤡', '😽', '✨', '💫', '🌖', '🤑', '🚓', '\\U0001fa78', '⬆', '📄', '\\U0001f932🏻', '🙋\\u200d♂️', '🌒', '😂', '🙌🏿', '✋🏻', '©', '🌜', '🏳️\\u200d🌈', '\\U0001fa84', '\\U0001f975', '\\U0001f9d0', '🎢', '🍗', '➡', '💪🏻', '⚰', '👔', '🛰', '⚫', '\\U0001f9e4', '💲', '🔟', '🐍', '💭', '🤣', '🖖🏻', '🌱', '😊', '🚫', ':DR:', '☄', '😕', '🇺🇸', '👋', '🍋', '\\U0001f974', '🏦', '\\U0001f971', '🤷\\u200d♂️', '🇿🇼', '🇿🇲', '🇾🇪', '🇪🇭', '🇻🇺', '🇻🇦', '🇻🇪', '🇻🇳', '🇺🇿', '🇺🇾', '🏴\\U000e0067\\U000e0062\\U000e0077\\U000e006c\\U000e0073\\U000e007f', '🏴\\U000e0067\\U000e0062\\U000e0073\\U000e0063\\U000e0074\\U000e007f', '🇺🇬', '🇺🇦', '🇦🇪', '🇬🇧', '🏴\\U000e0067\\U000e0062\\U000e0065\\U000e006e\\U000e0067\\U000e007f', '🇹🇻', '🇹🇲', '🇹🇷', '🇹🇬', '🇹🇰', '🇹🇴', '🇹🇳', '🇹🇼', '🇹🇯', '🇹🇿', '🇹🇭', '🇹🇱', '🇸🇾', '🇨🇭', '🇸🇪', '🇸🇷', '🇸🇩', '🇱🇰', '🇪🇸', '🇸🇸', '🇰🇷', '🇸🇮', '🇸🇧', '🇸🇴', '🇿🇦', '🇸🇰', '👨🏻\\u200d🚀', '📷', '🤷🏽\\u200d♂️', '😡', '🤚🏻', '🥜', '💹', '🖐🏼', '🖕🏻', '🙈', '🙉', '🙊', '🛫', '\\U0001f90f', '🍤', '👑', '😳', '😭', '🖍', '🖐🏻', '\\U0001f932🏼', '🏚', '🏠', '🎲', '👍🏼', '🤠', '🎞', '\\U0001f9f4', '📺', '🐱', '🔒', '\\U0001f9e0', '🤜', '👌', '🔗', '❌', '😎', '🍻', '👐🏻', '🍑', '🖖🏼', '🐣', '🙏🏼', '😅', '🆙', '👍🏻', '\\U0001f996', '👐🏼', '💪🏿', '\\U0001fa73', '\\U0001fa9d', '⚓', '😃', '🐵', '📝', '💜', '\\U0001fa96', '🎤', '⬇', '⬅', '\\U0001f92c', '😢', '✊🏽', '🌠', '🍊', '🙌🏾', '🌔', '💀', '🤚🏽', '👐🏾', '\\U0001f96d', '🥔', '⛽', '🙏🏿', '🐉', '🐷', '👍', '↗', '\\U0001f994', '🔫', '👐🏿', '💪🏾', '✋🏾', '💯', '🖤', '💚', '\\U0001f90d', '🤛', '🍣', '🖐🏾', '🤤', '🖐🏽', '🐁', '🐔', '🍖', '😠', '👿', ':diamond:', ':ape:', '®', '😮', '🍹', ':15:', ':30am:', ':45am:', ':15am-11:', ':45am-1:', ':30pm-2:', ':00pm-2:', ':00pm-3:', ':30pm-4:', '4️⃣', '2️⃣', '0️⃣', '🎉', '👀', '🍩', '👴', '👩\\u200d\\U0001f9bd', '🇨🇳', '👐🏽', '\\U0001f977', '🎶', '🌻', '👨', '🏀', '⛹🏾\\u200d♂️', '🍦', '🐸', '🎯', '🤐', '🍭', '🤢', '👨\\u200d⚕️', '💕', '👤', '😀', '☮', '🖖', '😌', '🤦🏻\\u200d♂️', '👈', '🌗', '☝🏻', '👇', '🌴', '👨\\u200d🌾', '👩\\u200d🌾', '🏹', '\\U0001f9db', '🏰', '🚂', '‼', '\\U0001f9e8', '🍾', '🎟', '🎰', '📊', '🥇', '⏰', '🔓', '😏', '🍬', '🎫', '🏢', '🍫', '🔵', '🐿', '🌰', '👹', '🙃', '👇🏼', '☺', '💴', '🎓', '🦁', '😬', '🙂', '🤷', '💥', '\\U0001f92b', '💪🏼', ':08:', ':18:', '✔', ':52:', '\\U0001f92a', '\\U0001f998', '🥑', ':04-3:', '🏘', '🐄', '\\U0001fab5', '\\U0001f9fe', '💾', '🚗', '🚧', '👨🏻\\u200d💼', '📱', '🚲', '💳', '☠', '👶🏻', '🥘', '✝', '🤵🏻\\u200d♀️', '\\U0001f9db🏻\\u200d♂️', '🇵🇸', '🇮🇱', '🔮', '⚡', '🚙', '🖨', '💻', '🤳🏻']\n"
     ]
    }
   ],
   "source": [
    "del body_list_all\n",
    "del count\n",
    "print(emoji_arr)"
   ]
  },
  {
   "cell_type": "code",
   "execution_count": 66,
   "id": "f3fa27f7",
   "metadata": {},
   "outputs": [
    {
     "name": "stdout",
     "output_type": "stream",
     "text": [
      "less then 50 likes number of emoji =  14525\n"
     ]
    }
   ],
   "source": [
    "body_list_all=[]\n",
    "emoji_arr_less=[]\n",
    "count=0\n",
    "for index, i in df_0.iterrows():\n",
    "    \n",
    "    if not re.findall(r'(https?://[^\\s]+)',i['body']):\n",
    "        text_de= emoji.demojize(i['body'])\n",
    "        emojis_list_de= re.findall(r'(:[!_\\-\\w]+:)', text_de)\n",
    "        list_emoji= [emoji.emojize(x) for x in emojis_list_de]\n",
    "\n",
    "        if list_emoji:\n",
    "            count=count+len(list_emoji)\n",
    "            for i in list_emoji:\n",
    "                if i not in emoji_arr_less:\n",
    "                    emoji_arr_less.append(i)\n",
    "print(\"less then 50 likes number of emoji = \",count)"
   ]
  },
  {
   "cell_type": "code",
   "execution_count": 67,
   "id": "43fd4f50",
   "metadata": {},
   "outputs": [
    {
     "name": "stdout",
     "output_type": "stream",
     "text": [
      "['🚀', '💫', '💎', '🙌', '\\U0001f9fb', '\\U0001f932', '✊', '🤦🏻\\u200d♂️', '✋', '🥜', '😤', '👋', '🙌🏻', '🌈', '🐻', '🤦🏽\\u200d♂️', '😊', '🍎', '🐢', '🤜', '🤛', '💖', '\\U0001f97a', '👀', '🙌🏽', '👿', '💸', '🔥', '🌕', '👊🏻', '👍🏻', '🙏🏽', '🚨', '🌝', '💳', '❤', '🤡', ':59:', '👐', '🤚', '\\U0001f92e', '⬆', '😭', '🙏🏻', '🇺🇸', '🌙', '💥', '✊🏽', '🤔', '😩', '\\U0001fa90', '❗', '📄', '🌚', '🎉', '🎂', '🙏', '💓', '🤑', '😁', '💪🏽', '😂', '✨', '🛰', '\\U0001f6f8', '🖐', '👊', '\\U0001f974', '🦍', '💪', '📈', '☹', '\\U0001f932🏻', '😫', '💡', '🐶', '🖕', '📌', '‼', '✅', '❌', '🙌🏼', '🐖', '🐷', '⭐', '👐🏻', '💕', '🍺', '🙏🏼', '😒', '\\U0001f9e8', '🤦\\u200d♂️', '🥔', '🇮🇳', '🌍', '👽', '❓', '⁉', '\\U0001f928', '🎢', '😄', '🌑', '😏', '💪🏼', '🖤', '🙏🏾', '😬', '💩', '👌', '💴', '😰', '🐒', '🚧', '🗿', '🤙', '😡', '🍆', '✈', '😀', '👴🏻', '☀', '🌎', '\\U0001fa78', '🕺🏻', '🤚🏼', '🍌', '🤚🏽', '🤣', '〽', '⚠', '\\U0001f9a7', '\\U0001f9d1\\u200d🚀', '\\U0001f970', '🌌', '\\U0001f9e4', '🌓', '💦', '🤷\\u200d♂️', '🖕🏻', '\\U0001f976', '😳', '💪🏻', '🎈', '💊', '🛡', '🖐🏻', '🖐🏼', '🖐🏽', '🖐🏾', '🖐🏿', '👭', '👬', '🙄', '👨🏻\\u200d🚀', '🐵', '🍿', '🌔', '🐮', '👏🏽', '🏳️\\u200d🌈', '\\U0001f9d0', '😉', '👏', '👊🏽', '😈', '🎮', '🤝', '🍑', '🔜', '\\U0001f932🏼', '🍒', '🤘', '😝', '💜', '\\U0001f9c3', '🌟', '😪', ':--:', '🎆', '🗡', '👋🏻', '🌜', '📑', '🥛', '🐐', '🤠', '🤐', '🇨🇦', '🔹', '🔫', '👍', '🎟', '🚚', '💪🏾', '🥊', '🌛', '✋🏻', '🤚🏻', '🐍', '♥', '™', '🙌🏾', '😢', '👐🏼', '👨\\u200d🚀', '💰', '👨\\u200d⚖️', '🏹', '😌', '😥', '🇨🇳', '🐧', '😅', '🤷🏼\\u200d♂️', '\\U0001fa73', '🤗', '📷', '✋🏼', '☝', '🙂', '😎', '🇦🇮', '🇧🇿', '🇦🇺', '🇧🇲', '🇧🇩', '🇧🇸', '🇧🇭', '🇦🇷', '🇧🇹', '🇧🇪', '🇧🇮', '🇧🇫', '🇧🇧', '🇨🇻', '🇧🇯', '🇪🇨', '🇨🇬', '🇨🇾', '🇰🇲', '🇨🇼', '🇨🇺', '🇨🇽', '🇸🇻', '🇨🇩', '🇪🇹', '🇪🇷', '🇭🇷', '🇸🇿', '🇪🇬', '🇩🇴', '🇩🇲', '🇹🇫', '🇬🇭', '🇩🇪', '🇬🇪', '🇫🇰', '🇬🇲', '🇪🇺', '🇫🇷', '🇬🇾', '🇮🇪', '🇮🇸', '🇬🇬', '🇮🇲', '🇮🇩', '🇭🇰', '🇬🇼', '🇰🇿', '🇭🇹', '🇰🇬', '🇰🇼', '🇰🇮', '🇮🇹', '🇰🇪', '🇯🇵', '🇱🇦', '🇲🇱', '🇽🇰', '🇱🇺', '🇱🇧', '🇱🇮', '🇾🇹', '🇱🇾', '🇲🇹', '🇲🇬', '🇲🇶', '🇱🇹', '🇱🇸', '🇲🇾', '🇲🇨', '🇲🇳', '🇲🇽', '🇲🇪', '🇫🇲', '🇲🇦', '🇲🇩', '🇲🇿', '🇲🇺', '🇳🇨', '🇲🇸', '🇳🇮', '🇳🇵', '🇳🇬', '🇳🇱', '🇳🇦', '🇵🇸', '🇳🇫', '🇳🇴', '🇴🇲', '🇵🇼', '🇵🇦', '🇵🇭', '🇼🇸', '🇵🇬', '🇸🇲', '🇸🇮', '🇷🇺', '🇿🇦', '🇸🇰', '🇵🇹', '🇸🇬', '🇷🇴', '🇸🇱', '🇵🇳', '🇹🇲', '🇹🇻', '🇨🇭', '🇹🇱', '🇸🇷', '🇹🇰', '🇺🇬', '🇹🇼', '🇹🇷', '🇹🇴', '🇦🇪', '🇺🇾', '🇻🇪', '🇿🇲', '🇺🇦', '🇾🇪', '🇪🇭', '🏴\\U000e0067\\U000e0062\\U000e0073\\U000e0063\\U000e0074\\U000e007f', '📉', '🦅', '🤷\\u200d♀️', '🤕', '☄', '💵', '🔮', '🖕🏼', '👔', '🕳', '🕯', '🚢', '🍜', '🐂', '🛫', '⛔', '\\U0001faa6', '🏁', '🦑', '🚆', '\\U0001f9e0', '🥂', '✊🏻', '🔐', '📦', '💯', '🤘🏼', '\\U0001f972', '🍾', '👋🏼', '📞', '\\U0001f92a', '😆', '\\U0001f973', '😘', '👧', '✊🏼', '🤷🏻\\u200d♂️', '🍀', '👉', '👶', '💹', '💲', '🔻', '📖', '🍗', '🚂', '🏳', '🤵', '\\U0001fad0', '⚔', '🌠', '\\U0001f975', '🌖', '🌗', '🌘', '🌒', '🤖', '🏭', '⛽', '🐔', '👍🏼', '👆', '✌', '\\U0001f9be', '👈', '🏆', '🐸', '🍵', '\\U0001f90c', '🎰', '🌊', '\\U0001f90c🏻', '👊🏼', '⚽', '🙉', '💍', '\\U0001f9d1🏼\\u200d🚀', '🕋', '✋🏽', '📜', '🌞', '👮\\u200d♀️', '🖖🏽', '💀', '🚗', '💚', '🐎', '🐺', '🤞🏻', '\\U0001f929', '🍻', '🏢', '🏛', '🏫', '🏦', '🏬', '🚍', '👨\\u200d👨\\u200d👧\\u200d👧', '👏🏻', ':------------------:', ':----------------:', ':----:', ':---------:', ':----------:', ':------:', ':-:', ':--------:', '\\U0001f932🏽', '🏈', '👾', '🤢', '\\U0001f92c', '🤷🏽\\u200d♂️', '🐝', '⏱', '🌿', '⌚', '♾', '\\U0001f9f8', '📚', ':Rocket:', ':moon:', ':Moon:', '🤓', ':DR:', '🌏', '💠', '♨', '⭕', '🐜', '🐘', '😑', '👅', '🌡', '\\U0001f9a0', '🥁', '🐱', '📏', '😔', '🎯', '\\U0001f92f', '👩\\u200d\\U0001f9b3', '✉', '🥚', '\\U0001f99d', '\\U0001fa81', '🐅', ':43:', '💪🏿', '®', '💭', '👩\\u200d🚀', '🤷', '🍃', '🐌', '🍋', '🙊', '😍', '🙈', '😞', '🤒', '🙃', '😛', '😃', '☺', '\\U0001f92b', '😻', '🦎', '🤞']\n"
     ]
    }
   ],
   "source": [
    "print(emoji_arr_less)"
   ]
  },
  {
   "cell_type": "markdown",
   "id": "49deefd5",
   "metadata": {},
   "source": [
    "# Creating a text classification model"
   ]
  },
  {
   "cell_type": "code",
   "execution_count": 68,
   "id": "3561a3d7",
   "metadata": {},
   "outputs": [],
   "source": [
    "from spacy.tokens import DocBin\n",
    "import spacy\n",
    "from collections import Counter"
   ]
  },
  {
   "cell_type": "code",
   "execution_count": 69,
   "id": "e45980e2",
   "metadata": {},
   "outputs": [],
   "source": [
    "# python -m spacy init fill-config ./base_config.cfg ./config.cfg\n",
    "# python -m spacy train config.cfg --output ./output"
   ]
  },
  {
   "cell_type": "code",
   "execution_count": 70,
   "id": "6cbfcfda",
   "metadata": {},
   "outputs": [
    {
     "name": "stdout",
     "output_type": "stream",
     "text": [
      "3.0.6\n"
     ]
    }
   ],
   "source": [
    "print(spacy.__version__)"
   ]
  },
  {
   "cell_type": "code",
   "execution_count": 71,
   "id": "75dfffd4",
   "metadata": {},
   "outputs": [],
   "source": [
    "nlp = spacy.load(\"en_core_web_sm\")"
   ]
  },
  {
   "cell_type": "code",
   "execution_count": 72,
   "id": "230a4c66",
   "metadata": {},
   "outputs": [],
   "source": [
    "def make_docs(data):\n",
    "    docs = []\n",
    "    for doc, label in nlp.pipe(data, as_tuples=True):\n",
    "        if label == 1:\n",
    "            doc.cats[\"positive\"] = 1\n",
    "            doc.cats[\"negative\"] = 0\n",
    "           \n",
    "        else:\n",
    "            doc.cats[\"positive\"] = 0\n",
    "            doc.cats[\"negative\"] = 1\n",
    "        docs.append(doc)\n",
    "    return (docs)"
   ]
  },
  {
   "cell_type": "code",
   "execution_count": 73,
   "id": "2fda4f2f",
   "metadata": {},
   "outputs": [
    {
     "name": "stdout",
     "output_type": "stream",
     "text": [
      "16342\n"
     ]
    },
    {
     "data": {
      "text/html": [
       "<div>\n",
       "<style scoped>\n",
       "    .dataframe tbody tr th:only-of-type {\n",
       "        vertical-align: middle;\n",
       "    }\n",
       "\n",
       "    .dataframe tbody tr th {\n",
       "        vertical-align: top;\n",
       "    }\n",
       "\n",
       "    .dataframe thead th {\n",
       "        text-align: right;\n",
       "    }\n",
       "</style>\n",
       "<table border=\"1\" class=\"dataframe\">\n",
       "  <thead>\n",
       "    <tr style=\"text-align: right;\">\n",
       "      <th></th>\n",
       "      <th>body</th>\n",
       "      <th>score</th>\n",
       "    </tr>\n",
       "  </thead>\n",
       "  <tbody>\n",
       "    <tr>\n",
       "      <th>0</th>\n",
       "      <td>Hedgefund whales are spreading disinfo saying ...</td>\n",
       "      <td>1</td>\n",
       "    </tr>\n",
       "    <tr>\n",
       "      <th>1</th>\n",
       "      <td>Life isn't fair. My mother always told me that...</td>\n",
       "      <td>1</td>\n",
       "    </tr>\n",
       "    <tr>\n",
       "      <th>2</th>\n",
       "      <td>I believe right now is one of those rare oppo...</td>\n",
       "      <td>1</td>\n",
       "    </tr>\n",
       "    <tr>\n",
       "      <th>3</th>\n",
       "      <td>Firstly, all of you diamond hands and smooth-b...</td>\n",
       "      <td>1</td>\n",
       "    </tr>\n",
       "    <tr>\n",
       "      <th>4</th>\n",
       "      <td>This is our time. If anyone will listen to you...</td>\n",
       "      <td>1</td>\n",
       "    </tr>\n",
       "    <tr>\n",
       "      <th>...</th>\n",
       "      <td>...</td>\n",
       "      <td>...</td>\n",
       "    </tr>\n",
       "    <tr>\n",
       "      <th>16337</th>\n",
       "      <td>$ASO only going up since IPO\\n\\nCurrent market...</td>\n",
       "      <td>1</td>\n",
       "    </tr>\n",
       "    <tr>\n",
       "      <th>16338</th>\n",
       "      <td>A report just came out for the first quarter f...</td>\n",
       "      <td>0</td>\n",
       "    </tr>\n",
       "    <tr>\n",
       "      <th>16339</th>\n",
       "      <td>I am long on FLGT! I think way too many people...</td>\n",
       "      <td>0</td>\n",
       "    </tr>\n",
       "    <tr>\n",
       "      <th>16340</th>\n",
       "      <td>Before you laugh at me just indulge me for a f...</td>\n",
       "      <td>0</td>\n",
       "    </tr>\n",
       "    <tr>\n",
       "      <th>16341</th>\n",
       "      <td>First off, yes I’m holding some heavy bags\\n\\n...</td>\n",
       "      <td>1</td>\n",
       "    </tr>\n",
       "  </tbody>\n",
       "</table>\n",
       "<p>16342 rows × 2 columns</p>\n",
       "</div>"
      ],
      "text/plain": [
       "                                                    body  score\n",
       "0      Hedgefund whales are spreading disinfo saying ...      1\n",
       "1      Life isn't fair. My mother always told me that...      1\n",
       "2       I believe right now is one of those rare oppo...      1\n",
       "3      Firstly, all of you diamond hands and smooth-b...      1\n",
       "4      This is our time. If anyone will listen to you...      1\n",
       "...                                                  ...    ...\n",
       "16337  $ASO only going up since IPO\\n\\nCurrent market...      1\n",
       "16338  A report just came out for the first quarter f...      0\n",
       "16339  I am long on FLGT! I think way too many people...      0\n",
       "16340  Before you laugh at me just indulge me for a f...      0\n",
       "16341  First off, yes I’m holding some heavy bags\\n\\n...      1\n",
       "\n",
       "[16342 rows x 2 columns]"
      ]
     },
     "execution_count": 73,
     "metadata": {},
     "output_type": "execute_result"
    }
   ],
   "source": [
    "\n",
    "body_list_all=[]\n",
    "score_all=[]\n",
    "for index, i in df.iterrows():\n",
    "    \n",
    "    if not re.findall(r'(https?://[^\\s]+)',i['body']):\n",
    "        body_list_all.append(i['body'])\n",
    "        score_all.append(i['score'])\n",
    "        \n",
    "\n",
    "        \n",
    "df_all=pd.DataFrame()\n",
    "df_all['body']=body_list_all\n",
    "df_all['score']=score_all\n",
    "print(len(body_list_all))\n",
    "del body_list_all\n",
    "del score_all\n",
    "df_all"
   ]
  },
  {
   "cell_type": "code",
   "execution_count": 74,
   "id": "c5ddd75f",
   "metadata": {},
   "outputs": [
    {
     "name": "stdout",
     "output_type": "stream",
     "text": [
      "16342\n",
      "8171\n",
      "8171\n",
      "<class 'list'>\n",
      "(\"**TO THE MOON WITH** \\n\\n**\\\\*\\\\*\\\\*\\\\*SPCE\\\\*\\\\*\\\\*\\\\***\\n\\n*Robinhood blocks us from trading our main picks. It's ok, we have more options!*\", 0)\n"
     ]
    }
   ],
   "source": [
    "subset = df_all\n",
    "\n",
    "tuples = [tuple(x) for x in subset.to_numpy()]\n",
    "         \n",
    "\n",
    "num_texts = 500\n",
    "print(len(tuples))\n",
    "train_data = tuples[:8171]\n",
    "valid_data = tuples[8171:]\n",
    "\n",
    "print(len(train_data))\n",
    "print(len(valid_data))\n",
    "print(type(train_data))\n",
    "print(train_data[100])\n",
    "\n"
   ]
  },
  {
   "cell_type": "markdown",
   "id": "bbcbf808",
   "metadata": {},
   "source": [
    "# build the model once"
   ]
  },
  {
   "cell_type": "code",
   "execution_count": 75,
   "id": "baa6dbf1",
   "metadata": {},
   "outputs": [],
   "source": [
    "##build the model once\n",
    "\n",
    "# train_docs = make_docs(train_data[:num_texts])\n",
    "# doc_bin = DocBin(docs=train_docs)\n",
    "# doc_bin.to_disk(\"./data/train_hs.spacy\")\n",
    "\n",
    "\n",
    "# valid_docs = make_docs(valid_data[:num_texts])\n",
    "# doc_bin = DocBin(docs=valid_docs)\n",
    "# doc_bin.to_disk(\"./data/valid_hs.spacy\")"
   ]
  },
  {
   "cell_type": "code",
   "execution_count": 76,
   "id": "5c245851",
   "metadata": {},
   "outputs": [],
   "source": [
    "text_to_test = \"I'm from canada and want to know the best trading platform to use to buy gamestonks\""
   ]
  },
  {
   "cell_type": "code",
   "execution_count": 77,
   "id": "3d086d5c",
   "metadata": {},
   "outputs": [],
   "source": [
    "nlp_model = spacy.load(\"output/model-last\")"
   ]
  },
  {
   "cell_type": "code",
   "execution_count": 78,
   "id": "c841daca",
   "metadata": {},
   "outputs": [],
   "source": [
    "doc1 = nlp_model(text_to_test)"
   ]
  },
  {
   "cell_type": "code",
   "execution_count": 79,
   "id": "f97ec83c",
   "metadata": {},
   "outputs": [
    {
     "name": "stdout",
     "output_type": "stream",
     "text": [
      "{'positive': 0.04552964121103287, 'negative': 0.9544703364372253}\n"
     ]
    }
   ],
   "source": [
    "print(doc1.cats)"
   ]
  },
  {
   "cell_type": "markdown",
   "id": "7ca4612b",
   "metadata": {},
   "source": [
    "# Most common words in English by Wikipedia  "
   ]
  },
  {
   "cell_type": "code",
   "execution_count": 80,
   "id": "a016e2d6",
   "metadata": {},
   "outputs": [],
   "source": [
    "from selenium import webdriver\n",
    "from selenium.webdriver.common.by import By"
   ]
  },
  {
   "cell_type": "code",
   "execution_count": 81,
   "id": "ffd02ff1",
   "metadata": {},
   "outputs": [],
   "source": [
    "driver = webdriver.Chrome('/Users/asher/Desktop/chrome_driver/chromedriver')\n",
    "driver.get('https://en.wikipedia.org/wiki/Most_common_words_in_English')"
   ]
  },
  {
   "cell_type": "code",
   "execution_count": 82,
   "id": "a6345687",
   "metadata": {},
   "outputs": [],
   "source": [
    "tit = driver.find_elements_by_xpath('//*[@id=\"Parts_of_speech\"]')\n",
    "titl = driver.find_elements_by_xpath('//*[@id=\"100_most_common_words\"]')\n",
    "tit=tit[0].get_attribute('innerText')\n",
    "titl=titl[0].get_attribute('innerText')\n"
   ]
  },
  {
   "cell_type": "code",
   "execution_count": 83,
   "id": "30a1a114",
   "metadata": {},
   "outputs": [
    {
     "name": "stdout",
     "output_type": "stream",
     "text": [
      "Word\tParts of speech\tOEC rank\tCOCA rank[8]\tDolch\n",
      "Rank\tNouns\tVerbs\tAdjectives\tPrepositions\tOthers\n",
      "\n"
     ]
    }
   ],
   "source": [
    "tab = driver.find_elements_by_xpath('//*[@id=\"mw-content-text\"]/div[1]/table[2]')\n",
    "tab = tab[0].get_attribute('innerText')\n",
    "big_tab_h=driver.find_elements_by_xpath('//*[@id=\"mw-content-text\"]/div[1]/table[1]/thead/tr')\n",
    "big_tab_h = big_tab_h[0].get_attribute('innerText')\n",
    "big_tab_body = driver.find_elements_by_xpath('//*[@id=\"mw-content-text\"]/div[1]/table[1]/tbody')\n",
    "big_tab_body = big_tab_body[0].get_attribute('innerText')\n",
    "\n",
    "print(big_tab_h[:48])\n",
    "print(tab[:48])"
   ]
  },
  {
   "cell_type": "code",
   "execution_count": 84,
   "id": "07a0ad09",
   "metadata": {},
   "outputs": [],
   "source": [
    "tab_s=''\n",
    "for i in tab:\n",
    "    tab_s+=i.replace('\\t',' ')\n",
    "\n",
    "\n",
    "tab_big_h=''\n",
    "for i in big_tab_h:\n",
    "    tab_big_h+=i.replace('\\t',' ')\n",
    "\n",
    "tab_big_b=''\n",
    "for i in big_tab_body:\n",
    "    tab_big_b+=i.replace('\\t',' ')"
   ]
  },
  {
   "cell_type": "code",
   "execution_count": 85,
   "id": "bdabd1f3",
   "metadata": {},
   "outputs": [],
   "source": [
    "rows_tab_s=tab_s.split('\\n')\n",
    "rows_tab_big_h=tab_big_h.split('\\n')\n",
    "rows_tab_big_b=tab_big_b.split('\\n')"
   ]
  },
  {
   "cell_type": "code",
   "execution_count": 86,
   "id": "58f8f2c9",
   "metadata": {},
   "outputs": [
    {
     "name": "stdout",
     "output_type": "stream",
     "text": [
      "Word\n"
     ]
    }
   ],
   "source": [
    "rows_tab_big_h_str=rows_tab_big_h[0]\n",
    "w1=rows_tab_big_h_str[:4]\n",
    "w2=rows_tab_big_h_str[4:20]\n",
    "rows_tab_big_h_str=[]\n",
    "rows_tab_big_h_str.append(w1)\n",
    "rows_tab_big_h_str.append(w2)\n",
    "print(rows_tab_big_h_str[0])"
   ]
  },
  {
   "cell_type": "code",
   "execution_count": 87,
   "id": "d1b5353c",
   "metadata": {},
   "outputs": [
    {
     "name": "stdout",
     "output_type": "stream",
     "text": [
      "Parts of speech\n"
     ]
    },
    {
     "data": {
      "text/html": [
       "<div>\n",
       "<style scoped>\n",
       "    .dataframe tbody tr th:only-of-type {\n",
       "        vertical-align: middle;\n",
       "    }\n",
       "\n",
       "    .dataframe tbody tr th {\n",
       "        vertical-align: top;\n",
       "    }\n",
       "\n",
       "    .dataframe thead th {\n",
       "        text-align: right;\n",
       "    }\n",
       "</style>\n",
       "<table border=\"1\" class=\"dataframe\">\n",
       "  <thead>\n",
       "    <tr style=\"text-align: right;\">\n",
       "      <th></th>\n",
       "      <th>Nouns</th>\n",
       "      <th>Verbs</th>\n",
       "      <th>Adjectives</th>\n",
       "      <th>Prepositions</th>\n",
       "      <th>Others</th>\n",
       "    </tr>\n",
       "  </thead>\n",
       "  <tbody>\n",
       "    <tr>\n",
       "      <th>1</th>\n",
       "      <td>time</td>\n",
       "      <td>be</td>\n",
       "      <td>good</td>\n",
       "      <td>to</td>\n",
       "      <td>the</td>\n",
       "    </tr>\n",
       "    <tr>\n",
       "      <th>2</th>\n",
       "      <td>person</td>\n",
       "      <td>have</td>\n",
       "      <td>new</td>\n",
       "      <td>of</td>\n",
       "      <td>and</td>\n",
       "    </tr>\n",
       "    <tr>\n",
       "      <th>3</th>\n",
       "      <td>year</td>\n",
       "      <td>do</td>\n",
       "      <td>first</td>\n",
       "      <td>in</td>\n",
       "      <td>a</td>\n",
       "    </tr>\n",
       "    <tr>\n",
       "      <th>4</th>\n",
       "      <td>way</td>\n",
       "      <td>say</td>\n",
       "      <td>last</td>\n",
       "      <td>for</td>\n",
       "      <td>that</td>\n",
       "    </tr>\n",
       "    <tr>\n",
       "      <th>5</th>\n",
       "      <td>day</td>\n",
       "      <td>get</td>\n",
       "      <td>long</td>\n",
       "      <td>on</td>\n",
       "      <td>I</td>\n",
       "    </tr>\n",
       "    <tr>\n",
       "      <th>6</th>\n",
       "      <td>thing</td>\n",
       "      <td>make</td>\n",
       "      <td>great</td>\n",
       "      <td>with</td>\n",
       "      <td>it</td>\n",
       "    </tr>\n",
       "    <tr>\n",
       "      <th>7</th>\n",
       "      <td>man</td>\n",
       "      <td>go</td>\n",
       "      <td>little</td>\n",
       "      <td>at</td>\n",
       "      <td>not</td>\n",
       "    </tr>\n",
       "    <tr>\n",
       "      <th>8</th>\n",
       "      <td>world</td>\n",
       "      <td>know</td>\n",
       "      <td>own</td>\n",
       "      <td>by</td>\n",
       "      <td>he</td>\n",
       "    </tr>\n",
       "  </tbody>\n",
       "</table>\n",
       "</div>"
      ],
      "text/plain": [
       "0   Nouns Verbs Adjectives Prepositions Others\n",
       "1    time    be       good           to    the\n",
       "2  person  have        new           of    and\n",
       "3    year    do      first           in      a\n",
       "4     way   say       last          for   that\n",
       "5     day   get       long           on      I\n",
       "6   thing  make      great         with     it\n",
       "7     man    go     little           at    not\n",
       "8   world  know        own           by     he"
      ]
     },
     "execution_count": 87,
     "metadata": {},
     "output_type": "execute_result"
    }
   ],
   "source": [
    "element=[]\n",
    "for r in rows_tab_s:\n",
    "    element.append([i for i in r.split(' ')])\n",
    "\n",
    "dfWiki=pd.DataFrame(element)\n",
    "dfWiki.columns=dfWiki.iloc[0]\n",
    "dfWiki=dfWiki.reindex(dfWiki.index.drop(0)) \n",
    "del dfWiki['Rank']\n",
    "print(tit)\n",
    "dfWiki.head(8)"
   ]
  },
  {
   "cell_type": "code",
   "execution_count": 88,
   "id": "f761d955",
   "metadata": {},
   "outputs": [
    {
     "name": "stdout",
     "output_type": "stream",
     "text": [
      "100 most common words\n"
     ]
    },
    {
     "data": {
      "text/html": [
       "<div>\n",
       "<style scoped>\n",
       "    .dataframe tbody tr th:only-of-type {\n",
       "        vertical-align: middle;\n",
       "    }\n",
       "\n",
       "    .dataframe tbody tr th {\n",
       "        vertical-align: top;\n",
       "    }\n",
       "\n",
       "    .dataframe thead th {\n",
       "        text-align: right;\n",
       "    }\n",
       "</style>\n",
       "<table border=\"1\" class=\"dataframe\">\n",
       "  <thead>\n",
       "    <tr style=\"text-align: right;\">\n",
       "      <th></th>\n",
       "      <th>Word</th>\n",
       "      <th>Parts of speech</th>\n",
       "    </tr>\n",
       "  </thead>\n",
       "  <tbody>\n",
       "    <tr>\n",
       "      <th>0</th>\n",
       "      <td>the</td>\n",
       "      <td>Article</td>\n",
       "    </tr>\n",
       "    <tr>\n",
       "      <th>1</th>\n",
       "      <td>be</td>\n",
       "      <td>Verb</td>\n",
       "    </tr>\n",
       "    <tr>\n",
       "      <th>2</th>\n",
       "      <td>to</td>\n",
       "      <td>Preposition</td>\n",
       "    </tr>\n",
       "    <tr>\n",
       "      <th>3</th>\n",
       "      <td>of</td>\n",
       "      <td>Preposition</td>\n",
       "    </tr>\n",
       "    <tr>\n",
       "      <th>4</th>\n",
       "      <td>and</td>\n",
       "      <td>Conjunction</td>\n",
       "    </tr>\n",
       "    <tr>\n",
       "      <th>...</th>\n",
       "      <td>...</td>\n",
       "      <td>...</td>\n",
       "    </tr>\n",
       "    <tr>\n",
       "      <th>95</th>\n",
       "      <td>these</td>\n",
       "      <td>Pronoun</td>\n",
       "    </tr>\n",
       "    <tr>\n",
       "      <th>96</th>\n",
       "      <td>give</td>\n",
       "      <td>Verb</td>\n",
       "    </tr>\n",
       "    <tr>\n",
       "      <th>97</th>\n",
       "      <td>day</td>\n",
       "      <td>Noun</td>\n",
       "    </tr>\n",
       "    <tr>\n",
       "      <th>98</th>\n",
       "      <td>most</td>\n",
       "      <td>Adverb</td>\n",
       "    </tr>\n",
       "    <tr>\n",
       "      <th>99</th>\n",
       "      <td>us</td>\n",
       "      <td>Pronoun</td>\n",
       "    </tr>\n",
       "  </tbody>\n",
       "</table>\n",
       "<p>100 rows × 2 columns</p>\n",
       "</div>"
      ],
      "text/plain": [
       "     Word  Parts of speech\n",
       "0     the          Article\n",
       "1      be             Verb\n",
       "2      to      Preposition\n",
       "3      of      Preposition\n",
       "4     and      Conjunction\n",
       "..    ...              ...\n",
       "95  these          Pronoun\n",
       "96   give             Verb\n",
       "97    day             Noun\n",
       "98   most           Adverb\n",
       "99     us          Pronoun\n",
       "\n",
       "[100 rows x 2 columns]"
      ]
     },
     "execution_count": 88,
     "metadata": {},
     "output_type": "execute_result"
    }
   ],
   "source": [
    "element_h=[]\n",
    "for r in rows_tab_big_b:\n",
    "    element_h.append([i for i in r.split(' ')])\n",
    "\n",
    "dfWiki_b=pd.DataFrame(element_h)\n",
    "#dfWiki_b.columns=dfWiki_b.iloc[0]\n",
    "\n",
    "df_Wiki_body = dfWiki_b[[0,1]]\n",
    "df_Wiki_body = df_Wiki_body.rename(columns={0: rows_tab_big_h_str[0] , 1 :rows_tab_big_h_str[1]})\n",
    "del dfWiki_b\n",
    "print(titl)\n",
    "df_Wiki_body"
   ]
  },
  {
   "cell_type": "code",
   "execution_count": 89,
   "id": "67968aaa",
   "metadata": {},
   "outputs": [
    {
     "name": "stdout",
     "output_type": "stream",
     "text": [
      "Adjectives\n"
     ]
    }
   ],
   "source": [
    "print(element[0][3])"
   ]
  },
  {
   "cell_type": "markdown",
   "id": "6ba3e5f5",
   "metadata": {},
   "source": [
    "# checking random posts from Yahoo"
   ]
  },
  {
   "cell_type": "code",
   "execution_count": 90,
   "id": "9fa31b13",
   "metadata": {},
   "outputs": [],
   "source": [
    "driver.get('https://www.reddit.com/r/AMCSTOCKS/comments/ls4vwk/what_does_amc_to_the_moon_mean/')"
   ]
  },
  {
   "cell_type": "code",
   "execution_count": 91,
   "id": "bb1351ed",
   "metadata": {},
   "outputs": [
    {
     "name": "stdout",
     "output_type": "stream",
     "text": [
      "WHAT DOES AMC TO THE MOON MEAN?\n",
      "Apes, with AMC reporting earnings at closing today the stock will probably be as volatile as we have seen in a while. Going from $11 to $20 or from $11 back to $6.00 is not a far fetched possibility. However please pay attention to this: (I’m not a financial advisor and this is not financial advise)\n"
     ]
    }
   ],
   "source": [
    "t=driver.find_elements_by_xpath('//*[@id=\"t3_ls4vwk\"]/div/div[3]/div[1]/div/h1')\n",
    "t=t[0].get_attribute('innerText')\n",
    "t2=driver.find_elements_by_xpath('//*[@id=\"t3_ls4vwk\"]/div/div[5]/div/p[1]')\n",
    "t2=t2[0].get_attribute('innerText')\n",
    "print(t)\n",
    "print(t2)"
   ]
  },
  {
   "cell_type": "code",
   "execution_count": 92,
   "id": "ebfbb5da",
   "metadata": {},
   "outputs": [],
   "source": [
    "driver.get('https://finance.yahoo.com/quote/AMC/community/')"
   ]
  },
  {
   "cell_type": "code",
   "execution_count": 93,
   "id": "cd7cd6a9",
   "metadata": {},
   "outputs": [
    {
     "name": "stdout",
     "output_type": "stream",
     "text": [
      "Forget today's price for a minute and just know shorts are burying themselves. They have borrowed almost 8 million shares today alone and they cant budge this much below 54.00 max. Short interest is increasing, utilization is rising, returned shares is shrinking.\n",
      "\n",
      "If anyone believes shorts have won today you are wrong. We are in control even on a red day.\n",
      "\n",
      "Estimated\n",
      "Short Interest Change\n",
      "+4.54%\n",
      "\n",
      "Estimated\n",
      "Current SI % of FF\n",
      "14.25%\n",
      "\n",
      "Estimated\n",
      "Current SI\n",
      "72.9m\n",
      "\n",
      "Returned Shares\n",
      "3.64m\n",
      "\n",
      "Borrowed Shares\n",
      "7.76m\n",
      "More \n",
      "\n",
      "-------------------\n",
      "\n",
      "The sooner you realise this is all fake, the price, the volume, the order books, the faster you'll just sit back and hold until the squeeze and stop stressing about red candles.\n",
      "Citadel is a market maker, means they control order flow. They control where orders are placed, via dark pools - off exchange. They manipulate order books, level 2 data flow. They manipulate the price of the stock, it's not reflective of the true worth. They manipulate short selling and self-reported data, so the stock is overshorted and the short interest is fake.\n"
     ]
    }
   ],
   "source": [
    "p=driver.find_elements_by_xpath('//*[@id=\"canvass-0-CanvassApplet\"]/div/ul/li[1]/div/div[2]/div[1]')\n",
    "p=p[0].get_attribute('innerText')\n",
    "p2=driver.find_elements_by_xpath('//*[@id=\"canvass-0-CanvassApplet\"]/div/ul/li[2]/div/div[2]/div')\n",
    "p2=p2[0].get_attribute('innerText')\n",
    "\n",
    "\n",
    "\n",
    "\n",
    "print(p,'\\n')\n",
    "print(\"-------------------\\n\")\n",
    "print(p2)"
   ]
  },
  {
   "cell_type": "code",
   "execution_count": 94,
   "id": "39a6ad3c",
   "metadata": {},
   "outputs": [],
   "source": [
    "driver.quit()"
   ]
  },
  {
   "cell_type": "code",
   "execution_count": 95,
   "id": "6be1134c",
   "metadata": {},
   "outputs": [
    {
     "name": "stdout",
     "output_type": "stream",
     "text": [
      "{'positive': 0.010810797102749348, 'negative': 0.9891891479492188}\n"
     ]
    }
   ],
   "source": [
    "nlp_model = spacy.load(\"output/model-last\")\n",
    "doc1 = nlp_model(p)\n",
    "print(doc1.cats)"
   ]
  },
  {
   "cell_type": "code",
   "execution_count": 96,
   "id": "726829ff",
   "metadata": {},
   "outputs": [
    {
     "name": "stdout",
     "output_type": "stream",
     "text": [
      "{'positive': 0.055122364312410355, 'negative': 0.9448776841163635}\n"
     ]
    }
   ],
   "source": [
    "nlp_model = spacy.load(\"output/model-last\")\n",
    "doc1 = nlp_model(p2)\n",
    "print(doc1.cats)"
   ]
  },
  {
   "cell_type": "markdown",
   "id": "c32e5e8d",
   "metadata": {},
   "source": [
    "# implementations of text-similarity"
   ]
  },
  {
   "cell_type": "code",
   "execution_count": 97,
   "id": "3ce8051e",
   "metadata": {},
   "outputs": [],
   "source": [
    "import docx2txt as doc\n",
    "from docx import Document\n",
    "from sklearn.feature_extraction.text import CountVectorizer\n",
    "from sklearn.metrics.pairwise import cosine_similarity"
   ]
  },
  {
   "cell_type": "code",
   "execution_count": 98,
   "id": "f711e43d",
   "metadata": {},
   "outputs": [
    {
     "name": "stdout",
     "output_type": "stream",
     "text": [
      "amc\n",
      "chaking for:  amc \n",
      "recommended  89.44 %\n"
     ]
    }
   ],
   "source": [
    "input_text=input()\n",
    "\n",
    "tex=''\n",
    "tokenizer_test=nltk.tokenize.RegexpTokenizer(r'\\w+')\n",
    "test= tokenizer_test.tokenize(input_text)\n",
    "test = [t.lower() for t in test if t not in stopWords]\n",
    "test_s=''\n",
    "for i in test:\n",
    "    test_s+=i\n",
    "    test_s+=' '\n",
    "\n",
    "print(\"chaking for: \",test_s)\n",
    "text=''\n",
    "matc=0\n",
    "for i in sortedTrigram1:\n",
    "    tex+=i[0][0]\n",
    "    tex+=' '\n",
    "    tex+=i[0][1]\n",
    "    tex+=' '\n",
    "    tex+=i[0][2]\n",
    "    text = [tex,test_s]\n",
    "    c = CountVectorizer()\n",
    "    count_matrix = c.fit_transform(text)\n",
    "    \n",
    "    matc = cosine_similarity(count_matrix)[0][1]*100\n",
    "    matc = round(matc, 2)\n",
    "    \n",
    "    if matc > 50:\n",
    "        print(\"recommended \",matc,\"%\")\n",
    "        #print(cosine_similarity(count_matrix))\n",
    "        \n",
    "        break\n",
    "    \n",
    "    tex=''\n",
    "    #print(i[0][0],i[0][1],i[0][2])\n",
    "if(matc<=50):\n",
    "    print(\"Not recommended \",matc,\"%\")  "
   ]
  }
 ],
 "metadata": {
  "kernelspec": {
   "display_name": "Python 3",
   "language": "python",
   "name": "python3"
  },
  "language_info": {
   "codemirror_mode": {
    "name": "ipython",
    "version": 3
   },
   "file_extension": ".py",
   "mimetype": "text/x-python",
   "name": "python",
   "nbconvert_exporter": "python",
   "pygments_lexer": "ipython3",
   "version": "3.6.13"
  }
 },
 "nbformat": 4,
 "nbformat_minor": 5
}
